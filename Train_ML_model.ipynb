{
  "nbformat": 4,
  "nbformat_minor": 0,
  "metadata": {
    "colab": {
      "provenance": [],
      "toc_visible": true,
      "authorship_tag": "ABX9TyO7BQr30UQApB3t/+gJ1hK9",
      "include_colab_link": true
    },
    "kernelspec": {
      "name": "python3",
      "display_name": "Python 3"
    },
    "language_info": {
      "name": "python"
    }
  },
  "cells": [
    {
      "cell_type": "markdown",
      "metadata": {
        "id": "view-in-github",
        "colab_type": "text"
      },
      "source": [
        "<a href=\"https://colab.research.google.com/github/7ev3r/Midterm_assignment_v2/blob/main/Train_ML_model.ipynb\" target=\"_parent\"><img src=\"https://colab.research.google.com/assets/colab-badge.svg\" alt=\"Open In Colab\"/></a>"
      ]
    },
    {
      "cell_type": "code",
      "execution_count": 23,
      "metadata": {
        "id": "9umHGZBfr9Z2"
      },
      "outputs": [],
      "source": [
        "import pandas as pd\n",
        "from surprise.model_selection import cross_validate\n",
        "from surprise.prediction_algorithms import SVD\n",
        "from surprise.prediction_algorithms import KNNWithMeans, KNNBasic, KNNBaseline\n",
        "from surprise.model_selection import GridSearchCV\n",
        "import numpy as np\n",
        "import time"
      ]
    },
    {
      "cell_type": "code",
      "source": [
        "df = pd.read_csv('Clean_whiskey_data.csv')\n",
        "df = df.drop('Unnamed: 0', axis = 1)\n",
        "df.shape"
      ],
      "metadata": {
        "colab": {
          "base_uri": "https://localhost:8080/"
        },
        "id": "p69rI7hes-ec",
        "outputId": "e4879be3-7dc6-400b-b25d-90a54d0d1af9"
      },
      "execution_count": 24,
      "outputs": [
        {
          "output_type": "execute_result",
          "data": {
            "text/plain": [
              "(37567, 7)"
            ]
          },
          "metadata": {},
          "execution_count": 24
        }
      ]
    },
    {
      "cell_type": "code",
      "source": [
        "pd.options.display.max_colwidth = 10000"
      ],
      "metadata": {
        "id": "w3EoxOJ-tbxd"
      },
      "execution_count": 25,
      "outputs": []
    },
    {
      "cell_type": "code",
      "source": [
        "df.head()"
      ],
      "metadata": {
        "colab": {
          "base_uri": "https://localhost:8080/",
          "height": 337
        },
        "id": "nh_TI2njtgeK",
        "outputId": "2c7ae847-03b1-4e24-ffb2-f0465df8a8cd"
      },
      "execution_count": 26,
      "outputs": [
        {
          "output_type": "execute_result",
          "data": {
            "text/plain": [
              "                whiskey  rating  \\\n",
              "0  royal-lochnagar-2008      88   \n",
              "1    laphroaig-1967-rwd     100   \n",
              "2    laphroaig-1967-rwd      99   \n",
              "3    laphroaig-1967-rwd      99   \n",
              "4    laphroaig-1967-rwd      99   \n",
              "\n",
              "                                                                      url  \\\n",
              "0  https://www.whiskybase.com/whiskies/whisky/224840/royal-lochnagar-2008   \n",
              "1     https://www.whiskybase.com/whiskies/whisky/24413/laphroaig-1967-rwd   \n",
              "2     https://www.whiskybase.com/whiskies/whisky/24413/laphroaig-1967-rwd   \n",
              "3     https://www.whiskybase.com/whiskies/whisky/24413/laphroaig-1967-rwd   \n",
              "4     https://www.whiskybase.com/whiskies/whisky/24413/laphroaig-1967-rwd   \n",
              "\n",
              "   User_ID  Whiskey_ID  price_euro  price_dollar  \n",
              "0      771         407       190.0        207.10  \n",
              "1      609         248     65431.0      71319.79  \n",
              "2      636         248     65431.0      71319.79  \n",
              "3      766         248     65431.0      71319.79  \n",
              "4      642         248     65431.0      71319.79  "
            ],
            "text/html": [
              "\n",
              "  <div id=\"df-5bef3bd8-15d2-4db4-bb5a-e46749a2c59a\">\n",
              "    <div class=\"colab-df-container\">\n",
              "      <div>\n",
              "<style scoped>\n",
              "    .dataframe tbody tr th:only-of-type {\n",
              "        vertical-align: middle;\n",
              "    }\n",
              "\n",
              "    .dataframe tbody tr th {\n",
              "        vertical-align: top;\n",
              "    }\n",
              "\n",
              "    .dataframe thead th {\n",
              "        text-align: right;\n",
              "    }\n",
              "</style>\n",
              "<table border=\"1\" class=\"dataframe\">\n",
              "  <thead>\n",
              "    <tr style=\"text-align: right;\">\n",
              "      <th></th>\n",
              "      <th>whiskey</th>\n",
              "      <th>rating</th>\n",
              "      <th>url</th>\n",
              "      <th>User_ID</th>\n",
              "      <th>Whiskey_ID</th>\n",
              "      <th>price_euro</th>\n",
              "      <th>price_dollar</th>\n",
              "    </tr>\n",
              "  </thead>\n",
              "  <tbody>\n",
              "    <tr>\n",
              "      <th>0</th>\n",
              "      <td>royal-lochnagar-2008</td>\n",
              "      <td>88</td>\n",
              "      <td>https://www.whiskybase.com/whiskies/whisky/224840/royal-lochnagar-2008</td>\n",
              "      <td>771</td>\n",
              "      <td>407</td>\n",
              "      <td>190.0</td>\n",
              "      <td>207.10</td>\n",
              "    </tr>\n",
              "    <tr>\n",
              "      <th>1</th>\n",
              "      <td>laphroaig-1967-rwd</td>\n",
              "      <td>100</td>\n",
              "      <td>https://www.whiskybase.com/whiskies/whisky/24413/laphroaig-1967-rwd</td>\n",
              "      <td>609</td>\n",
              "      <td>248</td>\n",
              "      <td>65431.0</td>\n",
              "      <td>71319.79</td>\n",
              "    </tr>\n",
              "    <tr>\n",
              "      <th>2</th>\n",
              "      <td>laphroaig-1967-rwd</td>\n",
              "      <td>99</td>\n",
              "      <td>https://www.whiskybase.com/whiskies/whisky/24413/laphroaig-1967-rwd</td>\n",
              "      <td>636</td>\n",
              "      <td>248</td>\n",
              "      <td>65431.0</td>\n",
              "      <td>71319.79</td>\n",
              "    </tr>\n",
              "    <tr>\n",
              "      <th>3</th>\n",
              "      <td>laphroaig-1967-rwd</td>\n",
              "      <td>99</td>\n",
              "      <td>https://www.whiskybase.com/whiskies/whisky/24413/laphroaig-1967-rwd</td>\n",
              "      <td>766</td>\n",
              "      <td>248</td>\n",
              "      <td>65431.0</td>\n",
              "      <td>71319.79</td>\n",
              "    </tr>\n",
              "    <tr>\n",
              "      <th>4</th>\n",
              "      <td>laphroaig-1967-rwd</td>\n",
              "      <td>99</td>\n",
              "      <td>https://www.whiskybase.com/whiskies/whisky/24413/laphroaig-1967-rwd</td>\n",
              "      <td>642</td>\n",
              "      <td>248</td>\n",
              "      <td>65431.0</td>\n",
              "      <td>71319.79</td>\n",
              "    </tr>\n",
              "  </tbody>\n",
              "</table>\n",
              "</div>\n",
              "      <button class=\"colab-df-convert\" onclick=\"convertToInteractive('df-5bef3bd8-15d2-4db4-bb5a-e46749a2c59a')\"\n",
              "              title=\"Convert this dataframe to an interactive table.\"\n",
              "              style=\"display:none;\">\n",
              "        \n",
              "  <svg xmlns=\"http://www.w3.org/2000/svg\" height=\"24px\"viewBox=\"0 0 24 24\"\n",
              "       width=\"24px\">\n",
              "    <path d=\"M0 0h24v24H0V0z\" fill=\"none\"/>\n",
              "    <path d=\"M18.56 5.44l.94 2.06.94-2.06 2.06-.94-2.06-.94-.94-2.06-.94 2.06-2.06.94zm-11 1L8.5 8.5l.94-2.06 2.06-.94-2.06-.94L8.5 2.5l-.94 2.06-2.06.94zm10 10l.94 2.06.94-2.06 2.06-.94-2.06-.94-.94-2.06-.94 2.06-2.06.94z\"/><path d=\"M17.41 7.96l-1.37-1.37c-.4-.4-.92-.59-1.43-.59-.52 0-1.04.2-1.43.59L10.3 9.45l-7.72 7.72c-.78.78-.78 2.05 0 2.83L4 21.41c.39.39.9.59 1.41.59.51 0 1.02-.2 1.41-.59l7.78-7.78 2.81-2.81c.8-.78.8-2.07 0-2.86zM5.41 20L4 18.59l7.72-7.72 1.47 1.35L5.41 20z\"/>\n",
              "  </svg>\n",
              "      </button>\n",
              "      \n",
              "  <style>\n",
              "    .colab-df-container {\n",
              "      display:flex;\n",
              "      flex-wrap:wrap;\n",
              "      gap: 12px;\n",
              "    }\n",
              "\n",
              "    .colab-df-convert {\n",
              "      background-color: #E8F0FE;\n",
              "      border: none;\n",
              "      border-radius: 50%;\n",
              "      cursor: pointer;\n",
              "      display: none;\n",
              "      fill: #1967D2;\n",
              "      height: 32px;\n",
              "      padding: 0 0 0 0;\n",
              "      width: 32px;\n",
              "    }\n",
              "\n",
              "    .colab-df-convert:hover {\n",
              "      background-color: #E2EBFA;\n",
              "      box-shadow: 0px 1px 2px rgba(60, 64, 67, 0.3), 0px 1px 3px 1px rgba(60, 64, 67, 0.15);\n",
              "      fill: #174EA6;\n",
              "    }\n",
              "\n",
              "    [theme=dark] .colab-df-convert {\n",
              "      background-color: #3B4455;\n",
              "      fill: #D2E3FC;\n",
              "    }\n",
              "\n",
              "    [theme=dark] .colab-df-convert:hover {\n",
              "      background-color: #434B5C;\n",
              "      box-shadow: 0px 1px 3px 1px rgba(0, 0, 0, 0.15);\n",
              "      filter: drop-shadow(0px 1px 2px rgba(0, 0, 0, 0.3));\n",
              "      fill: #FFFFFF;\n",
              "    }\n",
              "  </style>\n",
              "\n",
              "      <script>\n",
              "        const buttonEl =\n",
              "          document.querySelector('#df-5bef3bd8-15d2-4db4-bb5a-e46749a2c59a button.colab-df-convert');\n",
              "        buttonEl.style.display =\n",
              "          google.colab.kernel.accessAllowed ? 'block' : 'none';\n",
              "\n",
              "        async function convertToInteractive(key) {\n",
              "          const element = document.querySelector('#df-5bef3bd8-15d2-4db4-bb5a-e46749a2c59a');\n",
              "          const dataTable =\n",
              "            await google.colab.kernel.invokeFunction('convertToInteractive',\n",
              "                                                     [key], {});\n",
              "          if (!dataTable) return;\n",
              "\n",
              "          const docLinkHtml = 'Like what you see? Visit the ' +\n",
              "            '<a target=\"_blank\" href=https://colab.research.google.com/notebooks/data_table.ipynb>data table notebook</a>'\n",
              "            + ' to learn more about interactive tables.';\n",
              "          element.innerHTML = '';\n",
              "          dataTable['output_type'] = 'display_data';\n",
              "          await google.colab.output.renderOutput(dataTable, element);\n",
              "          const docLink = document.createElement('div');\n",
              "          docLink.innerHTML = docLinkHtml;\n",
              "          element.appendChild(docLink);\n",
              "        }\n",
              "      </script>\n",
              "    </div>\n",
              "  </div>\n",
              "  "
            ]
          },
          "metadata": {},
          "execution_count": 26
        }
      ]
    },
    {
      "cell_type": "code",
      "source": [
        "df['whiskey'] = df['whiskey'].str.replace('-', ' ').str.title()"
      ],
      "metadata": {
        "id": "oSci-V3TtoXm"
      },
      "execution_count": 27,
      "outputs": []
    },
    {
      "cell_type": "code",
      "source": [
        "rec_df = df.drop(columns = ['url', 'price_euro', 'price_dollar'])\n",
        "rec_df = rec_df[['User_ID', 'Whiskey_ID', 'rating']]"
      ],
      "metadata": {
        "id": "FZ_vxA4Ntuow"
      },
      "execution_count": 28,
      "outputs": []
    },
    {
      "cell_type": "code",
      "source": [
        "rec_match = df[['url', 'whiskey', 'Whiskey_ID', 'price_dollar', 'price_euro']].drop_duplicates('Whiskey_ID')"
      ],
      "metadata": {
        "id": "rnbiB36Zt4uO"
      },
      "execution_count": 29,
      "outputs": []
    },
    {
      "cell_type": "code",
      "source": [
        "rec_match.head()"
      ],
      "metadata": {
        "colab": {
          "base_uri": "https://localhost:8080/",
          "height": 206
        },
        "id": "WlscFvniuE7v",
        "outputId": "746d619d-36b0-4224-940a-79a6ad17ed21"
      },
      "execution_count": 30,
      "outputs": [
        {
          "output_type": "execute_result",
          "data": {
            "text/plain": [
              "                                                                       url  \\\n",
              "0   https://www.whiskybase.com/whiskies/whisky/224840/royal-lochnagar-2008   \n",
              "1      https://www.whiskybase.com/whiskies/whisky/24413/laphroaig-1967-rwd   \n",
              "38     https://www.whiskybase.com/whiskies/whisky/23249/laphroaig-1970-rwd   \n",
              "55    https://www.whiskybase.com/whiskies/whisky/12078/strathisla-1967-rwd   \n",
              "77         https://www.whiskybase.com/whiskies/whisky/8854/bowmore-1966-sa   \n",
              "\n",
              "                 whiskey  Whiskey_ID  price_dollar  price_euro  \n",
              "0   Royal Lochnagar 2008         407        207.10       190.0  \n",
              "1     Laphroaig 1967 Rwd         248      71319.79     65431.0  \n",
              "38    Laphroaig 1970 Rwd         250       9808.91      8999.0  \n",
              "55   Strathisla 1967 Rwd         452      32427.50     29750.0  \n",
              "77       Bowmore 1966 Sa          78      81409.92     74688.0  "
            ],
            "text/html": [
              "\n",
              "  <div id=\"df-b78d0ca7-ec3e-4d3f-ba5c-de2e7ad90c32\">\n",
              "    <div class=\"colab-df-container\">\n",
              "      <div>\n",
              "<style scoped>\n",
              "    .dataframe tbody tr th:only-of-type {\n",
              "        vertical-align: middle;\n",
              "    }\n",
              "\n",
              "    .dataframe tbody tr th {\n",
              "        vertical-align: top;\n",
              "    }\n",
              "\n",
              "    .dataframe thead th {\n",
              "        text-align: right;\n",
              "    }\n",
              "</style>\n",
              "<table border=\"1\" class=\"dataframe\">\n",
              "  <thead>\n",
              "    <tr style=\"text-align: right;\">\n",
              "      <th></th>\n",
              "      <th>url</th>\n",
              "      <th>whiskey</th>\n",
              "      <th>Whiskey_ID</th>\n",
              "      <th>price_dollar</th>\n",
              "      <th>price_euro</th>\n",
              "    </tr>\n",
              "  </thead>\n",
              "  <tbody>\n",
              "    <tr>\n",
              "      <th>0</th>\n",
              "      <td>https://www.whiskybase.com/whiskies/whisky/224840/royal-lochnagar-2008</td>\n",
              "      <td>Royal Lochnagar 2008</td>\n",
              "      <td>407</td>\n",
              "      <td>207.10</td>\n",
              "      <td>190.0</td>\n",
              "    </tr>\n",
              "    <tr>\n",
              "      <th>1</th>\n",
              "      <td>https://www.whiskybase.com/whiskies/whisky/24413/laphroaig-1967-rwd</td>\n",
              "      <td>Laphroaig 1967 Rwd</td>\n",
              "      <td>248</td>\n",
              "      <td>71319.79</td>\n",
              "      <td>65431.0</td>\n",
              "    </tr>\n",
              "    <tr>\n",
              "      <th>38</th>\n",
              "      <td>https://www.whiskybase.com/whiskies/whisky/23249/laphroaig-1970-rwd</td>\n",
              "      <td>Laphroaig 1970 Rwd</td>\n",
              "      <td>250</td>\n",
              "      <td>9808.91</td>\n",
              "      <td>8999.0</td>\n",
              "    </tr>\n",
              "    <tr>\n",
              "      <th>55</th>\n",
              "      <td>https://www.whiskybase.com/whiskies/whisky/12078/strathisla-1967-rwd</td>\n",
              "      <td>Strathisla 1967 Rwd</td>\n",
              "      <td>452</td>\n",
              "      <td>32427.50</td>\n",
              "      <td>29750.0</td>\n",
              "    </tr>\n",
              "    <tr>\n",
              "      <th>77</th>\n",
              "      <td>https://www.whiskybase.com/whiskies/whisky/8854/bowmore-1966-sa</td>\n",
              "      <td>Bowmore 1966 Sa</td>\n",
              "      <td>78</td>\n",
              "      <td>81409.92</td>\n",
              "      <td>74688.0</td>\n",
              "    </tr>\n",
              "  </tbody>\n",
              "</table>\n",
              "</div>\n",
              "      <button class=\"colab-df-convert\" onclick=\"convertToInteractive('df-b78d0ca7-ec3e-4d3f-ba5c-de2e7ad90c32')\"\n",
              "              title=\"Convert this dataframe to an interactive table.\"\n",
              "              style=\"display:none;\">\n",
              "        \n",
              "  <svg xmlns=\"http://www.w3.org/2000/svg\" height=\"24px\"viewBox=\"0 0 24 24\"\n",
              "       width=\"24px\">\n",
              "    <path d=\"M0 0h24v24H0V0z\" fill=\"none\"/>\n",
              "    <path d=\"M18.56 5.44l.94 2.06.94-2.06 2.06-.94-2.06-.94-.94-2.06-.94 2.06-2.06.94zm-11 1L8.5 8.5l.94-2.06 2.06-.94-2.06-.94L8.5 2.5l-.94 2.06-2.06.94zm10 10l.94 2.06.94-2.06 2.06-.94-2.06-.94-.94-2.06-.94 2.06-2.06.94z\"/><path d=\"M17.41 7.96l-1.37-1.37c-.4-.4-.92-.59-1.43-.59-.52 0-1.04.2-1.43.59L10.3 9.45l-7.72 7.72c-.78.78-.78 2.05 0 2.83L4 21.41c.39.39.9.59 1.41.59.51 0 1.02-.2 1.41-.59l7.78-7.78 2.81-2.81c.8-.78.8-2.07 0-2.86zM5.41 20L4 18.59l7.72-7.72 1.47 1.35L5.41 20z\"/>\n",
              "  </svg>\n",
              "      </button>\n",
              "      \n",
              "  <style>\n",
              "    .colab-df-container {\n",
              "      display:flex;\n",
              "      flex-wrap:wrap;\n",
              "      gap: 12px;\n",
              "    }\n",
              "\n",
              "    .colab-df-convert {\n",
              "      background-color: #E8F0FE;\n",
              "      border: none;\n",
              "      border-radius: 50%;\n",
              "      cursor: pointer;\n",
              "      display: none;\n",
              "      fill: #1967D2;\n",
              "      height: 32px;\n",
              "      padding: 0 0 0 0;\n",
              "      width: 32px;\n",
              "    }\n",
              "\n",
              "    .colab-df-convert:hover {\n",
              "      background-color: #E2EBFA;\n",
              "      box-shadow: 0px 1px 2px rgba(60, 64, 67, 0.3), 0px 1px 3px 1px rgba(60, 64, 67, 0.15);\n",
              "      fill: #174EA6;\n",
              "    }\n",
              "\n",
              "    [theme=dark] .colab-df-convert {\n",
              "      background-color: #3B4455;\n",
              "      fill: #D2E3FC;\n",
              "    }\n",
              "\n",
              "    [theme=dark] .colab-df-convert:hover {\n",
              "      background-color: #434B5C;\n",
              "      box-shadow: 0px 1px 3px 1px rgba(0, 0, 0, 0.15);\n",
              "      filter: drop-shadow(0px 1px 2px rgba(0, 0, 0, 0.3));\n",
              "      fill: #FFFFFF;\n",
              "    }\n",
              "  </style>\n",
              "\n",
              "      <script>\n",
              "        const buttonEl =\n",
              "          document.querySelector('#df-b78d0ca7-ec3e-4d3f-ba5c-de2e7ad90c32 button.colab-df-convert');\n",
              "        buttonEl.style.display =\n",
              "          google.colab.kernel.accessAllowed ? 'block' : 'none';\n",
              "\n",
              "        async function convertToInteractive(key) {\n",
              "          const element = document.querySelector('#df-b78d0ca7-ec3e-4d3f-ba5c-de2e7ad90c32');\n",
              "          const dataTable =\n",
              "            await google.colab.kernel.invokeFunction('convertToInteractive',\n",
              "                                                     [key], {});\n",
              "          if (!dataTable) return;\n",
              "\n",
              "          const docLinkHtml = 'Like what you see? Visit the ' +\n",
              "            '<a target=\"_blank\" href=https://colab.research.google.com/notebooks/data_table.ipynb>data table notebook</a>'\n",
              "            + ' to learn more about interactive tables.';\n",
              "          element.innerHTML = '';\n",
              "          dataTable['output_type'] = 'display_data';\n",
              "          await google.colab.output.renderOutput(dataTable, element);\n",
              "          const docLink = document.createElement('div');\n",
              "          docLink.innerHTML = docLinkHtml;\n",
              "          element.appendChild(docLink);\n",
              "        }\n",
              "      </script>\n",
              "    </div>\n",
              "  </div>\n",
              "  "
            ]
          },
          "metadata": {},
          "execution_count": 30
        }
      ]
    },
    {
      "cell_type": "code",
      "source": [
        "rec_df.User_ID.max()"
      ],
      "metadata": {
        "colab": {
          "base_uri": "https://localhost:8080/"
        },
        "id": "nakl1nNjuJIV",
        "outputId": "20ae5d44-5770-440e-d3e1-d76850e8dbb9"
      },
      "execution_count": 31,
      "outputs": [
        {
          "output_type": "execute_result",
          "data": {
            "text/plain": [
              "1008"
            ]
          },
          "metadata": {},
          "execution_count": 31
        }
      ]
    },
    {
      "cell_type": "markdown",
      "source": [
        "Fitting model with data"
      ],
      "metadata": {
        "id": "Sn3QDpzPuNa5"
      }
    },
    {
      "cell_type": "code",
      "source": [
        "from surprise import Reader, Dataset\n",
        "reader = Reader(rating_scale = (1,100))\n",
        "data = Dataset.load_from_df(rec_df,reader)"
      ],
      "metadata": {
        "id": "7gKDgcjduQ2T"
      },
      "execution_count": 32,
      "outputs": []
    },
    {
      "cell_type": "code",
      "source": [
        "from surprise.model_selection import train_test_split\n",
        "from surprise import accuracy\n",
        "trainset, testset = train_test_split(data, test_size=0.25, random_state = 100)"
      ],
      "metadata": {
        "id": "BEWeW-KXuVvh"
      },
      "execution_count": 33,
      "outputs": []
    },
    {
      "cell_type": "code",
      "source": [
        "svd = SVD()\n",
        "svd.fit(trainset)\n",
        "preds = svd.test(testset)"
      ],
      "metadata": {
        "id": "_I-jxFVGueMI"
      },
      "execution_count": 34,
      "outputs": []
    },
    {
      "cell_type": "markdown",
      "source": [
        "rating the model"
      ],
      "metadata": {
        "id": "uGlM-j-yuijq"
      }
    },
    {
      "cell_type": "code",
      "source": [
        "accuracy.rmse(preds)"
      ],
      "metadata": {
        "colab": {
          "base_uri": "https://localhost:8080/"
        },
        "id": "pN5gL5XZulfA",
        "outputId": "d8fe9f5a-7841-4b08-b138-c6b601032c5a"
      },
      "execution_count": 51,
      "outputs": [
        {
          "output_type": "stream",
          "name": "stdout",
          "text": [
            "RMSE: 1.8158\n"
          ]
        },
        {
          "output_type": "execute_result",
          "data": {
            "text/plain": [
              "1.8158159318032823"
            ]
          },
          "metadata": {},
          "execution_count": 51
        }
      ]
    },
    {
      "cell_type": "markdown",
      "source": [
        "Testing the model"
      ],
      "metadata": {
        "id": "wdFnXEOXus91"
      }
    },
    {
      "cell_type": "code",
      "source": [
        "def BoozePal(uid, iid, actual):\n",
        "    pred = svd.predict(uid, iid, actual, verbose=True)\n",
        "    match = rec_match.loc[rec_match['Whiskey_ID'] == iid]\n",
        "    return match"
      ],
      "metadata": {
        "id": "vGyQHdFNuv8o"
      },
      "execution_count": 52,
      "outputs": []
    },
    {
      "cell_type": "code",
      "source": [
        "BoozePal(852,0, 88)"
      ],
      "metadata": {
        "colab": {
          "base_uri": "https://localhost:8080/",
          "height": 159
        },
        "id": "1KNQWKT2u0uu",
        "outputId": "cbe2183e-3dfa-4980-ca01-783cdff83609"
      },
      "execution_count": 53,
      "outputs": [
        {
          "output_type": "stream",
          "name": "stdout",
          "text": [
            "user: 852        item: 0          r_ui = 88.00   est = 93.47   {'was_impossible': False}\n"
          ]
        },
        {
          "output_type": "execute_result",
          "data": {
            "text/plain": [
              "                                                                                          url  \\\n",
              "15132  https://www.whiskybase.com/whiskies/whisky/215080/a-secret-speyside-distillery-1968-br   \n",
              "\n",
              "                                    whiskey  Whiskey_ID  price_dollar  \\\n",
              "15132  A Secret Speyside Distillery 1968 Br           0       1392.76   \n",
              "\n",
              "       price_euro  \n",
              "15132     1277.76  "
            ],
            "text/html": [
              "\n",
              "  <div id=\"df-b4c751cb-7d6a-4fd1-8206-4ecdc35aa62d\">\n",
              "    <div class=\"colab-df-container\">\n",
              "      <div>\n",
              "<style scoped>\n",
              "    .dataframe tbody tr th:only-of-type {\n",
              "        vertical-align: middle;\n",
              "    }\n",
              "\n",
              "    .dataframe tbody tr th {\n",
              "        vertical-align: top;\n",
              "    }\n",
              "\n",
              "    .dataframe thead th {\n",
              "        text-align: right;\n",
              "    }\n",
              "</style>\n",
              "<table border=\"1\" class=\"dataframe\">\n",
              "  <thead>\n",
              "    <tr style=\"text-align: right;\">\n",
              "      <th></th>\n",
              "      <th>url</th>\n",
              "      <th>whiskey</th>\n",
              "      <th>Whiskey_ID</th>\n",
              "      <th>price_dollar</th>\n",
              "      <th>price_euro</th>\n",
              "    </tr>\n",
              "  </thead>\n",
              "  <tbody>\n",
              "    <tr>\n",
              "      <th>15132</th>\n",
              "      <td>https://www.whiskybase.com/whiskies/whisky/215080/a-secret-speyside-distillery-1968-br</td>\n",
              "      <td>A Secret Speyside Distillery 1968 Br</td>\n",
              "      <td>0</td>\n",
              "      <td>1392.76</td>\n",
              "      <td>1277.76</td>\n",
              "    </tr>\n",
              "  </tbody>\n",
              "</table>\n",
              "</div>\n",
              "      <button class=\"colab-df-convert\" onclick=\"convertToInteractive('df-b4c751cb-7d6a-4fd1-8206-4ecdc35aa62d')\"\n",
              "              title=\"Convert this dataframe to an interactive table.\"\n",
              "              style=\"display:none;\">\n",
              "        \n",
              "  <svg xmlns=\"http://www.w3.org/2000/svg\" height=\"24px\"viewBox=\"0 0 24 24\"\n",
              "       width=\"24px\">\n",
              "    <path d=\"M0 0h24v24H0V0z\" fill=\"none\"/>\n",
              "    <path d=\"M18.56 5.44l.94 2.06.94-2.06 2.06-.94-2.06-.94-.94-2.06-.94 2.06-2.06.94zm-11 1L8.5 8.5l.94-2.06 2.06-.94-2.06-.94L8.5 2.5l-.94 2.06-2.06.94zm10 10l.94 2.06.94-2.06 2.06-.94-2.06-.94-.94-2.06-.94 2.06-2.06.94z\"/><path d=\"M17.41 7.96l-1.37-1.37c-.4-.4-.92-.59-1.43-.59-.52 0-1.04.2-1.43.59L10.3 9.45l-7.72 7.72c-.78.78-.78 2.05 0 2.83L4 21.41c.39.39.9.59 1.41.59.51 0 1.02-.2 1.41-.59l7.78-7.78 2.81-2.81c.8-.78.8-2.07 0-2.86zM5.41 20L4 18.59l7.72-7.72 1.47 1.35L5.41 20z\"/>\n",
              "  </svg>\n",
              "      </button>\n",
              "      \n",
              "  <style>\n",
              "    .colab-df-container {\n",
              "      display:flex;\n",
              "      flex-wrap:wrap;\n",
              "      gap: 12px;\n",
              "    }\n",
              "\n",
              "    .colab-df-convert {\n",
              "      background-color: #E8F0FE;\n",
              "      border: none;\n",
              "      border-radius: 50%;\n",
              "      cursor: pointer;\n",
              "      display: none;\n",
              "      fill: #1967D2;\n",
              "      height: 32px;\n",
              "      padding: 0 0 0 0;\n",
              "      width: 32px;\n",
              "    }\n",
              "\n",
              "    .colab-df-convert:hover {\n",
              "      background-color: #E2EBFA;\n",
              "      box-shadow: 0px 1px 2px rgba(60, 64, 67, 0.3), 0px 1px 3px 1px rgba(60, 64, 67, 0.15);\n",
              "      fill: #174EA6;\n",
              "    }\n",
              "\n",
              "    [theme=dark] .colab-df-convert {\n",
              "      background-color: #3B4455;\n",
              "      fill: #D2E3FC;\n",
              "    }\n",
              "\n",
              "    [theme=dark] .colab-df-convert:hover {\n",
              "      background-color: #434B5C;\n",
              "      box-shadow: 0px 1px 3px 1px rgba(0, 0, 0, 0.15);\n",
              "      filter: drop-shadow(0px 1px 2px rgba(0, 0, 0, 0.3));\n",
              "      fill: #FFFFFF;\n",
              "    }\n",
              "  </style>\n",
              "\n",
              "      <script>\n",
              "        const buttonEl =\n",
              "          document.querySelector('#df-b4c751cb-7d6a-4fd1-8206-4ecdc35aa62d button.colab-df-convert');\n",
              "        buttonEl.style.display =\n",
              "          google.colab.kernel.accessAllowed ? 'block' : 'none';\n",
              "\n",
              "        async function convertToInteractive(key) {\n",
              "          const element = document.querySelector('#df-b4c751cb-7d6a-4fd1-8206-4ecdc35aa62d');\n",
              "          const dataTable =\n",
              "            await google.colab.kernel.invokeFunction('convertToInteractive',\n",
              "                                                     [key], {});\n",
              "          if (!dataTable) return;\n",
              "\n",
              "          const docLinkHtml = 'Like what you see? Visit the ' +\n",
              "            '<a target=\"_blank\" href=https://colab.research.google.com/notebooks/data_table.ipynb>data table notebook</a>'\n",
              "            + ' to learn more about interactive tables.';\n",
              "          element.innerHTML = '';\n",
              "          dataTable['output_type'] = 'display_data';\n",
              "          await google.colab.output.renderOutput(dataTable, element);\n",
              "          const docLink = document.createElement('div');\n",
              "          docLink.innerHTML = docLinkHtml;\n",
              "          element.appendChild(docLink);\n",
              "        }\n",
              "      </script>\n",
              "    </div>\n",
              "  </div>\n",
              "  "
            ]
          },
          "metadata": {},
          "execution_count": 53
        }
      ]
    },
    {
      "cell_type": "markdown",
      "source": [
        "Helper function to return recommendations to the user. Used in the whiskey_rater function below"
      ],
      "metadata": {
        "id": "DoC8D_wBu7tG"
      }
    },
    {
      "cell_type": "code",
      "source": [
        "def get_recommendations(user_ratings, num_recs, priceEU):\n",
        "    new_ratings_df = rec_match.append(user_ratings,ignore_index=True)\n",
        "    new_ratings_df = new_ratings_df[new_ratings_df['price_euro'] < priceEU]\n",
        "    new_ratings_df = new_ratings_df.drop(columns=['url', 'whiskey', 'price_dollar', 'price_euro'])\n",
        "\n",
        "    new_data = Dataset.load_from_df(new_ratings_df,reader)\n",
        "    svd_new = SVD()\n",
        "    svd_new.fit(new_data.build_full_trainset())\n",
        "\n",
        "    list_of_whiskies = []\n",
        "    for w_id in new_ratings_df['Whiskey_ID'].unique():\n",
        "        list_of_whiskies.append((w_id, svd_new.predict(new_ratings_df['User_ID'].max(),w_id)[3]))\n",
        "\n",
        "    ranked_whiskies = sorted(list_of_whiskies, key=lambda x:x[1],reverse=True)\n",
        "\n",
        "    rec_num = 1\n",
        "    for i in ranked_whiskies[:num_recs]:\n",
        "        recommended = rec_match[rec_match['Whiskey_ID'] == i[0]]\n",
        "        print('Recommendation number:', rec_num)\n",
        "        print('Whiskey: ' + recommended.values[0][1])\n",
        "        print('Price: ' + str(recommended.values[0][-1]))\n",
        "        print('URL: ' + recommended.values[0][0])\n",
        "        print('\\n')\n",
        "        rec_num +=1\n",
        "\n"
      ],
      "metadata": {
        "id": "xVd0Acwxu8rG"
      },
      "execution_count": 57,
      "outputs": []
    },
    {
      "cell_type": "code",
      "source": [
        "def BoozePal(df, num):\n",
        "    userID = rec_df.User_ID.max()+1\n",
        "    num_recs = input('How many recommendations would you like? Please enter a number from 1 to 10:\\n')\n",
        "    \n",
        "    while int(num_recs) > 10:\n",
        "        num_recs = input('You entered a number over 10. Please enter a number from 1 to 10 to continue. \\n')\n",
        "    priceUSD = input('Please enter your budget for a bottle of whiskey. $')\n",
        "    rating_list = []\n",
        "    \n",
        "    while num > 0:\n",
        "        whiskey = df[df['price_euro'] < int(priceEU)].sample(1)\n",
        "        print('\\nPlease rate the following {} whiskies. \\n'.format(num))\n",
        "        print('Whiskey: ' + whiskey.values[0][2])\n",
        "        print('Price: ' + str(whiskey.values[0][-1]))\n",
        "        print('URL: ' + whiskey.values[0][1])\n",
        "        rating = input('How do you rate this whiskey on a scale of 1-100, press n if you are not familiar with it. :\\n')\n",
        "            \n",
        "        if rating == 'n':\n",
        "            continue\n",
        "        \n",
        "        if int(rating) > 100:\n",
        "            print('Rating must be below 100!')\n",
        "            continue\n",
        "        \n",
        "        else:\n",
        "            rating_one_whiskey = {'User_ID':userID,'Whiskey_ID': whiskey['Whiskey_ID'].values[0],'rating': rating}\n",
        "            rating_list.append(rating_one_whiskey) \n",
        "            num -= 1\n",
        "        time.sleep(.5)\n",
        "    print('\\n'+'-----Making Recommendations-----'+'\\n')\n",
        "    \n",
        "    time.sleep(1.5)\n",
        "    get_recommendations(rating_list, int(num_recs), int(priceUSD))"
      ],
      "metadata": {
        "id": "EGCiql-4vRiW"
      },
      "execution_count": 58,
      "outputs": []
    },
    {
      "cell_type": "code",
      "source": [
        "user_ratings= BoozePal(df, 5)"
      ],
      "metadata": {
        "colab": {
          "base_uri": "https://localhost:8080/",
          "height": 340
        },
        "id": "fJAXFsQsvYVr",
        "outputId": "be3150e6-672c-4331-c801-c110bf97d4a7"
      },
      "execution_count": 59,
      "outputs": [
        {
          "name": "stdout",
          "output_type": "stream",
          "text": [
            "How many recommendations would you like? Please enter a number from 1 to 10:\n",
            "5\n",
            "Please enter your budget for a bottle of whiskey. $120\n"
          ]
        },
        {
          "output_type": "error",
          "ename": "NameError",
          "evalue": "ignored",
          "traceback": [
            "\u001b[0;31m---------------------------------------------------------------------------\u001b[0m",
            "\u001b[0;31mNameError\u001b[0m                                 Traceback (most recent call last)",
            "\u001b[0;32m<ipython-input-59-8697e00469a1>\u001b[0m in \u001b[0;36m<module>\u001b[0;34m\u001b[0m\n\u001b[0;32m----> 1\u001b[0;31m \u001b[0muser_ratings\u001b[0m\u001b[0;34m=\u001b[0m \u001b[0mBoozePal\u001b[0m\u001b[0;34m(\u001b[0m\u001b[0mdf\u001b[0m\u001b[0;34m,\u001b[0m \u001b[0;36m5\u001b[0m\u001b[0;34m)\u001b[0m\u001b[0;34m\u001b[0m\u001b[0;34m\u001b[0m\u001b[0m\n\u001b[0m",
            "\u001b[0;32m<ipython-input-58-5a1e98e84410>\u001b[0m in \u001b[0;36mBoozePal\u001b[0;34m(df, num)\u001b[0m\n\u001b[1;32m      9\u001b[0m \u001b[0;34m\u001b[0m\u001b[0m\n\u001b[1;32m     10\u001b[0m     \u001b[0;32mwhile\u001b[0m \u001b[0mnum\u001b[0m \u001b[0;34m>\u001b[0m \u001b[0;36m0\u001b[0m\u001b[0;34m:\u001b[0m\u001b[0;34m\u001b[0m\u001b[0;34m\u001b[0m\u001b[0m\n\u001b[0;32m---> 11\u001b[0;31m         \u001b[0mwhiskey\u001b[0m \u001b[0;34m=\u001b[0m \u001b[0mdf\u001b[0m\u001b[0;34m[\u001b[0m\u001b[0mdf\u001b[0m\u001b[0;34m[\u001b[0m\u001b[0;34m'price_euro'\u001b[0m\u001b[0;34m]\u001b[0m \u001b[0;34m<\u001b[0m \u001b[0mint\u001b[0m\u001b[0;34m(\u001b[0m\u001b[0mpriceEU\u001b[0m\u001b[0;34m)\u001b[0m\u001b[0;34m]\u001b[0m\u001b[0;34m.\u001b[0m\u001b[0msample\u001b[0m\u001b[0;34m(\u001b[0m\u001b[0;36m1\u001b[0m\u001b[0;34m)\u001b[0m\u001b[0;34m\u001b[0m\u001b[0;34m\u001b[0m\u001b[0m\n\u001b[0m\u001b[1;32m     12\u001b[0m         \u001b[0mprint\u001b[0m\u001b[0;34m(\u001b[0m\u001b[0;34m'\\nPlease rate the following {} whiskies. \\n'\u001b[0m\u001b[0;34m.\u001b[0m\u001b[0mformat\u001b[0m\u001b[0;34m(\u001b[0m\u001b[0mnum\u001b[0m\u001b[0;34m)\u001b[0m\u001b[0;34m)\u001b[0m\u001b[0;34m\u001b[0m\u001b[0;34m\u001b[0m\u001b[0m\n\u001b[1;32m     13\u001b[0m         \u001b[0mprint\u001b[0m\u001b[0;34m(\u001b[0m\u001b[0;34m'Whiskey: '\u001b[0m \u001b[0;34m+\u001b[0m \u001b[0mwhiskey\u001b[0m\u001b[0;34m.\u001b[0m\u001b[0mvalues\u001b[0m\u001b[0;34m[\u001b[0m\u001b[0;36m0\u001b[0m\u001b[0;34m]\u001b[0m\u001b[0;34m[\u001b[0m\u001b[0;36m2\u001b[0m\u001b[0;34m]\u001b[0m\u001b[0;34m)\u001b[0m\u001b[0;34m\u001b[0m\u001b[0;34m\u001b[0m\u001b[0m\n",
            "\u001b[0;31mNameError\u001b[0m: name 'priceEU' is not defined"
          ]
        }
      ]
    }
  ]
}