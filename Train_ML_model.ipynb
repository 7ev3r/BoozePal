{
  "nbformat": 4,
  "nbformat_minor": 0,
  "metadata": {
    "colab": {
      "provenance": [],
      "authorship_tag": "ABX9TyO02dVB/Hi8mIjhRCjEPCmv",
      "include_colab_link": true
    },
    "kernelspec": {
      "name": "python3",
      "display_name": "Python 3"
    },
    "language_info": {
      "name": "python"
    }
  },
  "cells": [
    {
      "cell_type": "markdown",
      "metadata": {
        "id": "view-in-github",
        "colab_type": "text"
      },
      "source": [
        "<a href=\"https://colab.research.google.com/github/7ev3r/Midterm_assignment_v2/blob/main/Train_ML_model.ipynb\" target=\"_parent\"><img src=\"https://colab.research.google.com/assets/colab-badge.svg\" alt=\"Open In Colab\"/></a>"
      ]
    },
    {
      "cell_type": "code",
      "source": [
        "pip install scikit-surprise"
      ],
      "metadata": {
        "id": "-tKJYxmJ6E_U",
        "outputId": "a85b2d2c-dc85-4bd0-d0d0-d9e6607f4126",
        "colab": {
          "base_uri": "https://localhost:8080/"
        }
      },
      "execution_count": 2,
      "outputs": [
        {
          "output_type": "stream",
          "name": "stdout",
          "text": [
            "Looking in indexes: https://pypi.org/simple, https://us-python.pkg.dev/colab-wheels/public/simple/\n",
            "Collecting scikit-surprise\n",
            "  Downloading scikit-surprise-1.1.3.tar.gz (771 kB)\n",
            "\u001b[2K     \u001b[90m━━━━━━━━━━━━━━━━━━━━━━━━━━━━━━━━━━━━━━\u001b[0m \u001b[32m772.0/772.0 KB\u001b[0m \u001b[31m16.3 MB/s\u001b[0m eta \u001b[36m0:00:00\u001b[0m\n",
            "\u001b[?25h  Preparing metadata (setup.py) ... \u001b[?25l\u001b[?25hdone\n",
            "Requirement already satisfied: joblib>=1.0.0 in /usr/local/lib/python3.8/dist-packages (from scikit-surprise) (1.2.0)\n",
            "Requirement already satisfied: numpy>=1.17.3 in /usr/local/lib/python3.8/dist-packages (from scikit-surprise) (1.21.6)\n",
            "Requirement already satisfied: scipy>=1.3.2 in /usr/local/lib/python3.8/dist-packages (from scikit-surprise) (1.7.3)\n",
            "Building wheels for collected packages: scikit-surprise\n",
            "  Building wheel for scikit-surprise (setup.py) ... \u001b[?25l\u001b[?25hdone\n",
            "  Created wheel for scikit-surprise: filename=scikit_surprise-1.1.3-cp38-cp38-linux_x86_64.whl size=3366457 sha256=b1eeb2b04cec589966f3542e0393c1f131dd679354fa23d39ac80c70ec41b670\n",
            "  Stored in directory: /root/.cache/pip/wheels/af/db/86/2c18183a80ba05da35bf0fb7417aac5cddbd93bcb1b92fd3ea\n",
            "Successfully built scikit-surprise\n",
            "Installing collected packages: scikit-surprise\n",
            "Successfully installed scikit-surprise-1.1.3\n"
          ]
        }
      ]
    },
    {
      "cell_type": "markdown",
      "source": [
        "Importing Libraries"
      ],
      "metadata": {
        "id": "Qr28_sJ9yt_H"
      }
    },
    {
      "cell_type": "code",
      "execution_count": 98,
      "metadata": {
        "id": "9umHGZBfr9Z2"
      },
      "outputs": [],
      "source": [
        "import pandas as pd\n",
        "from surprise.model_selection import cross_validate\n",
        "from surprise.prediction_algorithms import SVD\n",
        "from surprise.prediction_algorithms import KNNWithMeans, KNNBasic, KNNBaseline\n",
        "from surprise.model_selection import GridSearchCV\n",
        "import numpy as np\n",
        "import time"
      ]
    },
    {
      "cell_type": "code",
      "source": [
        "df = pd.read_csv('Clean_whiskey_data.csv')\n",
        "df = df.drop('Unnamed: 0', axis = 1)\n",
        "df.shape"
      ],
      "metadata": {
        "colab": {
          "base_uri": "https://localhost:8080/"
        },
        "id": "p69rI7hes-ec",
        "outputId": "70770f78-2a15-4b00-f70e-0825e45f15ad"
      },
      "execution_count": 100,
      "outputs": [
        {
          "output_type": "execute_result",
          "data": {
            "text/plain": [
              "(37567, 7)"
            ]
          },
          "metadata": {},
          "execution_count": 100
        }
      ]
    },
    {
      "cell_type": "code",
      "source": [
        "pd.options.display.max_colwidth = 10000"
      ],
      "metadata": {
        "id": "w3EoxOJ-tbxd"
      },
      "execution_count": 101,
      "outputs": []
    },
    {
      "cell_type": "code",
      "source": [
        "df.head()"
      ],
      "metadata": {
        "colab": {
          "base_uri": "https://localhost:8080/",
          "height": 337
        },
        "id": "nh_TI2njtgeK",
        "outputId": "3ce816b7-cc48-4c5f-a4c2-033a5e9bdfdb"
      },
      "execution_count": 102,
      "outputs": [
        {
          "output_type": "execute_result",
          "data": {
            "text/plain": [
              "                whiskey  rating  \\\n",
              "0  royal-lochnagar-2008      88   \n",
              "1    laphroaig-1967-rwd     100   \n",
              "2    laphroaig-1967-rwd      99   \n",
              "3    laphroaig-1967-rwd      99   \n",
              "4    laphroaig-1967-rwd      99   \n",
              "\n",
              "                                                                      url  \\\n",
              "0  https://www.whiskybase.com/whiskies/whisky/224840/royal-lochnagar-2008   \n",
              "1     https://www.whiskybase.com/whiskies/whisky/24413/laphroaig-1967-rwd   \n",
              "2     https://www.whiskybase.com/whiskies/whisky/24413/laphroaig-1967-rwd   \n",
              "3     https://www.whiskybase.com/whiskies/whisky/24413/laphroaig-1967-rwd   \n",
              "4     https://www.whiskybase.com/whiskies/whisky/24413/laphroaig-1967-rwd   \n",
              "\n",
              "   User_ID  Whiskey_ID  price_euro  price_dollar  \n",
              "0      771         407       190.0        207.10  \n",
              "1      609         248     65431.0      71319.79  \n",
              "2      636         248     65431.0      71319.79  \n",
              "3      766         248     65431.0      71319.79  \n",
              "4      642         248     65431.0      71319.79  "
            ],
            "text/html": [
              "\n",
              "  <div id=\"df-86c14c23-b71e-4f53-ba7c-34095f48af6a\">\n",
              "    <div class=\"colab-df-container\">\n",
              "      <div>\n",
              "<style scoped>\n",
              "    .dataframe tbody tr th:only-of-type {\n",
              "        vertical-align: middle;\n",
              "    }\n",
              "\n",
              "    .dataframe tbody tr th {\n",
              "        vertical-align: top;\n",
              "    }\n",
              "\n",
              "    .dataframe thead th {\n",
              "        text-align: right;\n",
              "    }\n",
              "</style>\n",
              "<table border=\"1\" class=\"dataframe\">\n",
              "  <thead>\n",
              "    <tr style=\"text-align: right;\">\n",
              "      <th></th>\n",
              "      <th>whiskey</th>\n",
              "      <th>rating</th>\n",
              "      <th>url</th>\n",
              "      <th>User_ID</th>\n",
              "      <th>Whiskey_ID</th>\n",
              "      <th>price_euro</th>\n",
              "      <th>price_dollar</th>\n",
              "    </tr>\n",
              "  </thead>\n",
              "  <tbody>\n",
              "    <tr>\n",
              "      <th>0</th>\n",
              "      <td>royal-lochnagar-2008</td>\n",
              "      <td>88</td>\n",
              "      <td>https://www.whiskybase.com/whiskies/whisky/224840/royal-lochnagar-2008</td>\n",
              "      <td>771</td>\n",
              "      <td>407</td>\n",
              "      <td>190.0</td>\n",
              "      <td>207.10</td>\n",
              "    </tr>\n",
              "    <tr>\n",
              "      <th>1</th>\n",
              "      <td>laphroaig-1967-rwd</td>\n",
              "      <td>100</td>\n",
              "      <td>https://www.whiskybase.com/whiskies/whisky/24413/laphroaig-1967-rwd</td>\n",
              "      <td>609</td>\n",
              "      <td>248</td>\n",
              "      <td>65431.0</td>\n",
              "      <td>71319.79</td>\n",
              "    </tr>\n",
              "    <tr>\n",
              "      <th>2</th>\n",
              "      <td>laphroaig-1967-rwd</td>\n",
              "      <td>99</td>\n",
              "      <td>https://www.whiskybase.com/whiskies/whisky/24413/laphroaig-1967-rwd</td>\n",
              "      <td>636</td>\n",
              "      <td>248</td>\n",
              "      <td>65431.0</td>\n",
              "      <td>71319.79</td>\n",
              "    </tr>\n",
              "    <tr>\n",
              "      <th>3</th>\n",
              "      <td>laphroaig-1967-rwd</td>\n",
              "      <td>99</td>\n",
              "      <td>https://www.whiskybase.com/whiskies/whisky/24413/laphroaig-1967-rwd</td>\n",
              "      <td>766</td>\n",
              "      <td>248</td>\n",
              "      <td>65431.0</td>\n",
              "      <td>71319.79</td>\n",
              "    </tr>\n",
              "    <tr>\n",
              "      <th>4</th>\n",
              "      <td>laphroaig-1967-rwd</td>\n",
              "      <td>99</td>\n",
              "      <td>https://www.whiskybase.com/whiskies/whisky/24413/laphroaig-1967-rwd</td>\n",
              "      <td>642</td>\n",
              "      <td>248</td>\n",
              "      <td>65431.0</td>\n",
              "      <td>71319.79</td>\n",
              "    </tr>\n",
              "  </tbody>\n",
              "</table>\n",
              "</div>\n",
              "      <button class=\"colab-df-convert\" onclick=\"convertToInteractive('df-86c14c23-b71e-4f53-ba7c-34095f48af6a')\"\n",
              "              title=\"Convert this dataframe to an interactive table.\"\n",
              "              style=\"display:none;\">\n",
              "        \n",
              "  <svg xmlns=\"http://www.w3.org/2000/svg\" height=\"24px\"viewBox=\"0 0 24 24\"\n",
              "       width=\"24px\">\n",
              "    <path d=\"M0 0h24v24H0V0z\" fill=\"none\"/>\n",
              "    <path d=\"M18.56 5.44l.94 2.06.94-2.06 2.06-.94-2.06-.94-.94-2.06-.94 2.06-2.06.94zm-11 1L8.5 8.5l.94-2.06 2.06-.94-2.06-.94L8.5 2.5l-.94 2.06-2.06.94zm10 10l.94 2.06.94-2.06 2.06-.94-2.06-.94-.94-2.06-.94 2.06-2.06.94z\"/><path d=\"M17.41 7.96l-1.37-1.37c-.4-.4-.92-.59-1.43-.59-.52 0-1.04.2-1.43.59L10.3 9.45l-7.72 7.72c-.78.78-.78 2.05 0 2.83L4 21.41c.39.39.9.59 1.41.59.51 0 1.02-.2 1.41-.59l7.78-7.78 2.81-2.81c.8-.78.8-2.07 0-2.86zM5.41 20L4 18.59l7.72-7.72 1.47 1.35L5.41 20z\"/>\n",
              "  </svg>\n",
              "      </button>\n",
              "      \n",
              "  <style>\n",
              "    .colab-df-container {\n",
              "      display:flex;\n",
              "      flex-wrap:wrap;\n",
              "      gap: 12px;\n",
              "    }\n",
              "\n",
              "    .colab-df-convert {\n",
              "      background-color: #E8F0FE;\n",
              "      border: none;\n",
              "      border-radius: 50%;\n",
              "      cursor: pointer;\n",
              "      display: none;\n",
              "      fill: #1967D2;\n",
              "      height: 32px;\n",
              "      padding: 0 0 0 0;\n",
              "      width: 32px;\n",
              "    }\n",
              "\n",
              "    .colab-df-convert:hover {\n",
              "      background-color: #E2EBFA;\n",
              "      box-shadow: 0px 1px 2px rgba(60, 64, 67, 0.3), 0px 1px 3px 1px rgba(60, 64, 67, 0.15);\n",
              "      fill: #174EA6;\n",
              "    }\n",
              "\n",
              "    [theme=dark] .colab-df-convert {\n",
              "      background-color: #3B4455;\n",
              "      fill: #D2E3FC;\n",
              "    }\n",
              "\n",
              "    [theme=dark] .colab-df-convert:hover {\n",
              "      background-color: #434B5C;\n",
              "      box-shadow: 0px 1px 3px 1px rgba(0, 0, 0, 0.15);\n",
              "      filter: drop-shadow(0px 1px 2px rgba(0, 0, 0, 0.3));\n",
              "      fill: #FFFFFF;\n",
              "    }\n",
              "  </style>\n",
              "\n",
              "      <script>\n",
              "        const buttonEl =\n",
              "          document.querySelector('#df-86c14c23-b71e-4f53-ba7c-34095f48af6a button.colab-df-convert');\n",
              "        buttonEl.style.display =\n",
              "          google.colab.kernel.accessAllowed ? 'block' : 'none';\n",
              "\n",
              "        async function convertToInteractive(key) {\n",
              "          const element = document.querySelector('#df-86c14c23-b71e-4f53-ba7c-34095f48af6a');\n",
              "          const dataTable =\n",
              "            await google.colab.kernel.invokeFunction('convertToInteractive',\n",
              "                                                     [key], {});\n",
              "          if (!dataTable) return;\n",
              "\n",
              "          const docLinkHtml = 'Like what you see? Visit the ' +\n",
              "            '<a target=\"_blank\" href=https://colab.research.google.com/notebooks/data_table.ipynb>data table notebook</a>'\n",
              "            + ' to learn more about interactive tables.';\n",
              "          element.innerHTML = '';\n",
              "          dataTable['output_type'] = 'display_data';\n",
              "          await google.colab.output.renderOutput(dataTable, element);\n",
              "          const docLink = document.createElement('div');\n",
              "          docLink.innerHTML = docLinkHtml;\n",
              "          element.appendChild(docLink);\n",
              "        }\n",
              "      </script>\n",
              "    </div>\n",
              "  </div>\n",
              "  "
            ]
          },
          "metadata": {},
          "execution_count": 102
        }
      ]
    },
    {
      "cell_type": "code",
      "source": [
        "df['whiskey'] = df['whiskey'].str.replace('-', ' ').str.title()"
      ],
      "metadata": {
        "id": "oSci-V3TtoXm"
      },
      "execution_count": 103,
      "outputs": []
    },
    {
      "cell_type": "code",
      "source": [
        "rec_df = df.drop(columns = ['url', 'price_dollar', 'price_euro'])\n",
        "rec_df = rec_df[['User_ID', 'Whiskey_ID', 'rating']]"
      ],
      "metadata": {
        "id": "FZ_vxA4Ntuow"
      },
      "execution_count": 104,
      "outputs": []
    },
    {
      "cell_type": "code",
      "source": [
        "rec_match = df[['url', 'whiskey', 'Whiskey_ID', 'price_dollar', 'price_euro']].drop_duplicates('Whiskey_ID')"
      ],
      "metadata": {
        "id": "rnbiB36Zt4uO"
      },
      "execution_count": 105,
      "outputs": []
    },
    {
      "cell_type": "markdown",
      "source": [
        "DataFrame with unique WhiskeyID's"
      ],
      "metadata": {
        "id": "syJNbfH-y5vy"
      }
    },
    {
      "cell_type": "code",
      "source": [
        "rec_match.head()"
      ],
      "metadata": {
        "colab": {
          "base_uri": "https://localhost:8080/",
          "height": 206
        },
        "id": "WlscFvniuE7v",
        "outputId": "e6bad685-a9e5-4073-f971-fa02891795a8"
      },
      "execution_count": 106,
      "outputs": [
        {
          "output_type": "execute_result",
          "data": {
            "text/plain": [
              "                                                                       url  \\\n",
              "0   https://www.whiskybase.com/whiskies/whisky/224840/royal-lochnagar-2008   \n",
              "1      https://www.whiskybase.com/whiskies/whisky/24413/laphroaig-1967-rwd   \n",
              "38     https://www.whiskybase.com/whiskies/whisky/23249/laphroaig-1970-rwd   \n",
              "55    https://www.whiskybase.com/whiskies/whisky/12078/strathisla-1967-rwd   \n",
              "77         https://www.whiskybase.com/whiskies/whisky/8854/bowmore-1966-sa   \n",
              "\n",
              "                 whiskey  Whiskey_ID  price_dollar  price_euro  \n",
              "0   Royal Lochnagar 2008         407        207.10       190.0  \n",
              "1     Laphroaig 1967 Rwd         248      71319.79     65431.0  \n",
              "38    Laphroaig 1970 Rwd         250       9808.91      8999.0  \n",
              "55   Strathisla 1967 Rwd         452      32427.50     29750.0  \n",
              "77       Bowmore 1966 Sa          78      81409.92     74688.0  "
            ],
            "text/html": [
              "\n",
              "  <div id=\"df-da19d98b-3274-4192-9ee8-aabd4d03f78a\">\n",
              "    <div class=\"colab-df-container\">\n",
              "      <div>\n",
              "<style scoped>\n",
              "    .dataframe tbody tr th:only-of-type {\n",
              "        vertical-align: middle;\n",
              "    }\n",
              "\n",
              "    .dataframe tbody tr th {\n",
              "        vertical-align: top;\n",
              "    }\n",
              "\n",
              "    .dataframe thead th {\n",
              "        text-align: right;\n",
              "    }\n",
              "</style>\n",
              "<table border=\"1\" class=\"dataframe\">\n",
              "  <thead>\n",
              "    <tr style=\"text-align: right;\">\n",
              "      <th></th>\n",
              "      <th>url</th>\n",
              "      <th>whiskey</th>\n",
              "      <th>Whiskey_ID</th>\n",
              "      <th>price_dollar</th>\n",
              "      <th>price_euro</th>\n",
              "    </tr>\n",
              "  </thead>\n",
              "  <tbody>\n",
              "    <tr>\n",
              "      <th>0</th>\n",
              "      <td>https://www.whiskybase.com/whiskies/whisky/224840/royal-lochnagar-2008</td>\n",
              "      <td>Royal Lochnagar 2008</td>\n",
              "      <td>407</td>\n",
              "      <td>207.10</td>\n",
              "      <td>190.0</td>\n",
              "    </tr>\n",
              "    <tr>\n",
              "      <th>1</th>\n",
              "      <td>https://www.whiskybase.com/whiskies/whisky/24413/laphroaig-1967-rwd</td>\n",
              "      <td>Laphroaig 1967 Rwd</td>\n",
              "      <td>248</td>\n",
              "      <td>71319.79</td>\n",
              "      <td>65431.0</td>\n",
              "    </tr>\n",
              "    <tr>\n",
              "      <th>38</th>\n",
              "      <td>https://www.whiskybase.com/whiskies/whisky/23249/laphroaig-1970-rwd</td>\n",
              "      <td>Laphroaig 1970 Rwd</td>\n",
              "      <td>250</td>\n",
              "      <td>9808.91</td>\n",
              "      <td>8999.0</td>\n",
              "    </tr>\n",
              "    <tr>\n",
              "      <th>55</th>\n",
              "      <td>https://www.whiskybase.com/whiskies/whisky/12078/strathisla-1967-rwd</td>\n",
              "      <td>Strathisla 1967 Rwd</td>\n",
              "      <td>452</td>\n",
              "      <td>32427.50</td>\n",
              "      <td>29750.0</td>\n",
              "    </tr>\n",
              "    <tr>\n",
              "      <th>77</th>\n",
              "      <td>https://www.whiskybase.com/whiskies/whisky/8854/bowmore-1966-sa</td>\n",
              "      <td>Bowmore 1966 Sa</td>\n",
              "      <td>78</td>\n",
              "      <td>81409.92</td>\n",
              "      <td>74688.0</td>\n",
              "    </tr>\n",
              "  </tbody>\n",
              "</table>\n",
              "</div>\n",
              "      <button class=\"colab-df-convert\" onclick=\"convertToInteractive('df-da19d98b-3274-4192-9ee8-aabd4d03f78a')\"\n",
              "              title=\"Convert this dataframe to an interactive table.\"\n",
              "              style=\"display:none;\">\n",
              "        \n",
              "  <svg xmlns=\"http://www.w3.org/2000/svg\" height=\"24px\"viewBox=\"0 0 24 24\"\n",
              "       width=\"24px\">\n",
              "    <path d=\"M0 0h24v24H0V0z\" fill=\"none\"/>\n",
              "    <path d=\"M18.56 5.44l.94 2.06.94-2.06 2.06-.94-2.06-.94-.94-2.06-.94 2.06-2.06.94zm-11 1L8.5 8.5l.94-2.06 2.06-.94-2.06-.94L8.5 2.5l-.94 2.06-2.06.94zm10 10l.94 2.06.94-2.06 2.06-.94-2.06-.94-.94-2.06-.94 2.06-2.06.94z\"/><path d=\"M17.41 7.96l-1.37-1.37c-.4-.4-.92-.59-1.43-.59-.52 0-1.04.2-1.43.59L10.3 9.45l-7.72 7.72c-.78.78-.78 2.05 0 2.83L4 21.41c.39.39.9.59 1.41.59.51 0 1.02-.2 1.41-.59l7.78-7.78 2.81-2.81c.8-.78.8-2.07 0-2.86zM5.41 20L4 18.59l7.72-7.72 1.47 1.35L5.41 20z\"/>\n",
              "  </svg>\n",
              "      </button>\n",
              "      \n",
              "  <style>\n",
              "    .colab-df-container {\n",
              "      display:flex;\n",
              "      flex-wrap:wrap;\n",
              "      gap: 12px;\n",
              "    }\n",
              "\n",
              "    .colab-df-convert {\n",
              "      background-color: #E8F0FE;\n",
              "      border: none;\n",
              "      border-radius: 50%;\n",
              "      cursor: pointer;\n",
              "      display: none;\n",
              "      fill: #1967D2;\n",
              "      height: 32px;\n",
              "      padding: 0 0 0 0;\n",
              "      width: 32px;\n",
              "    }\n",
              "\n",
              "    .colab-df-convert:hover {\n",
              "      background-color: #E2EBFA;\n",
              "      box-shadow: 0px 1px 2px rgba(60, 64, 67, 0.3), 0px 1px 3px 1px rgba(60, 64, 67, 0.15);\n",
              "      fill: #174EA6;\n",
              "    }\n",
              "\n",
              "    [theme=dark] .colab-df-convert {\n",
              "      background-color: #3B4455;\n",
              "      fill: #D2E3FC;\n",
              "    }\n",
              "\n",
              "    [theme=dark] .colab-df-convert:hover {\n",
              "      background-color: #434B5C;\n",
              "      box-shadow: 0px 1px 3px 1px rgba(0, 0, 0, 0.15);\n",
              "      filter: drop-shadow(0px 1px 2px rgba(0, 0, 0, 0.3));\n",
              "      fill: #FFFFFF;\n",
              "    }\n",
              "  </style>\n",
              "\n",
              "      <script>\n",
              "        const buttonEl =\n",
              "          document.querySelector('#df-da19d98b-3274-4192-9ee8-aabd4d03f78a button.colab-df-convert');\n",
              "        buttonEl.style.display =\n",
              "          google.colab.kernel.accessAllowed ? 'block' : 'none';\n",
              "\n",
              "        async function convertToInteractive(key) {\n",
              "          const element = document.querySelector('#df-da19d98b-3274-4192-9ee8-aabd4d03f78a');\n",
              "          const dataTable =\n",
              "            await google.colab.kernel.invokeFunction('convertToInteractive',\n",
              "                                                     [key], {});\n",
              "          if (!dataTable) return;\n",
              "\n",
              "          const docLinkHtml = 'Like what you see? Visit the ' +\n",
              "            '<a target=\"_blank\" href=https://colab.research.google.com/notebooks/data_table.ipynb>data table notebook</a>'\n",
              "            + ' to learn more about interactive tables.';\n",
              "          element.innerHTML = '';\n",
              "          dataTable['output_type'] = 'display_data';\n",
              "          await google.colab.output.renderOutput(dataTable, element);\n",
              "          const docLink = document.createElement('div');\n",
              "          docLink.innerHTML = docLinkHtml;\n",
              "          element.appendChild(docLink);\n",
              "        }\n",
              "      </script>\n",
              "    </div>\n",
              "  </div>\n",
              "  "
            ]
          },
          "metadata": {},
          "execution_count": 106
        }
      ]
    },
    {
      "cell_type": "code",
      "source": [
        "rec_df.User_ID.max()"
      ],
      "metadata": {
        "colab": {
          "base_uri": "https://localhost:8080/"
        },
        "id": "nakl1nNjuJIV",
        "outputId": "50835547-8808-4464-c1cd-33de997e63e2"
      },
      "execution_count": 107,
      "outputs": [
        {
          "output_type": "execute_result",
          "data": {
            "text/plain": [
              "1008"
            ]
          },
          "metadata": {},
          "execution_count": 107
        }
      ]
    },
    {
      "cell_type": "markdown",
      "source": [
        "Fitting model with data"
      ],
      "metadata": {
        "id": "Sn3QDpzPuNa5"
      }
    },
    {
      "cell_type": "code",
      "source": [
        "from surprise import Reader, Dataset\n",
        "reader = Reader(rating_scale = (1,100))\n",
        "data = Dataset.load_from_df(rec_df,reader)"
      ],
      "metadata": {
        "id": "7gKDgcjduQ2T"
      },
      "execution_count": 129,
      "outputs": []
    },
    {
      "cell_type": "code",
      "source": [
        "from surprise.model_selection import train_test_split\n",
        "from surprise import accuracy\n",
        "trainset, testset = train_test_split(data, test_size=0.25, random_state = 100)"
      ],
      "metadata": {
        "id": "BEWeW-KXuVvh"
      },
      "execution_count": 130,
      "outputs": []
    },
    {
      "cell_type": "code",
      "source": [
        "svd = SVD()\n",
        "svd.fit(trainset)\n",
        "preds = svd.test(testset)"
      ],
      "metadata": {
        "id": "_I-jxFVGueMI"
      },
      "execution_count": 131,
      "outputs": []
    },
    {
      "cell_type": "markdown",
      "source": [
        "Rating the model"
      ],
      "metadata": {
        "id": "uGlM-j-yuijq"
      }
    },
    {
      "cell_type": "code",
      "source": [
        "accuracy.rmse(preds)"
      ],
      "metadata": {
        "colab": {
          "base_uri": "https://localhost:8080/"
        },
        "id": "pN5gL5XZulfA",
        "outputId": "9ef505a6-fbf8-4000-ff03-8a634952fe3e"
      },
      "execution_count": 132,
      "outputs": [
        {
          "output_type": "stream",
          "name": "stdout",
          "text": [
            "RMSE: 1.8064\n"
          ]
        },
        {
          "output_type": "execute_result",
          "data": {
            "text/plain": [
              "1.806442045015489"
            ]
          },
          "metadata": {},
          "execution_count": 132
        }
      ]
    },
    {
      "cell_type": "markdown",
      "source": [
        "Testing the model"
      ],
      "metadata": {
        "id": "wdFnXEOXus91"
      }
    },
    {
      "cell_type": "code",
      "source": [
        "def test_pal(uid, iid, actual):\n",
        "    pred = svd.predict(uid, iid, actual, verbose=True)\n",
        "    match = rec_match.loc[rec_match['Whiskey_ID'] == iid]\n",
        "    return match"
      ],
      "metadata": {
        "id": "vGyQHdFNuv8o"
      },
      "execution_count": 133,
      "outputs": []
    },
    {
      "cell_type": "code",
      "source": [
        "test_pal(609,2, 88)"
      ],
      "metadata": {
        "colab": {
          "base_uri": "https://localhost:8080/",
          "height": 98
        },
        "id": "1KNQWKT2u0uu",
        "outputId": "c95d3160-914d-43a8-e059-d67b4405c412"
      },
      "execution_count": 134,
      "outputs": [
        {
          "output_type": "stream",
          "name": "stdout",
          "text": [
            "user: 609        item: 2          r_ui = 88.00   est = 94.02   {'was_impossible': False}\n"
          ]
        },
        {
          "output_type": "execute_result",
          "data": {
            "text/plain": [
              "                                                                  url  \\\n",
              "6813  https://www.whiskybase.com/whiskies/whisky/15625/ardbeg-1959-ca   \n",
              "\n",
              "             whiskey  Whiskey_ID  price_dollar  price_euro  \n",
              "6813  Ardbeg 1959 Ca           2        1853.0      1700.0  "
            ],
            "text/html": [
              "\n",
              "  <div id=\"df-72aff360-2092-4f53-a7b2-4cbcd54909e9\">\n",
              "    <div class=\"colab-df-container\">\n",
              "      <div>\n",
              "<style scoped>\n",
              "    .dataframe tbody tr th:only-of-type {\n",
              "        vertical-align: middle;\n",
              "    }\n",
              "\n",
              "    .dataframe tbody tr th {\n",
              "        vertical-align: top;\n",
              "    }\n",
              "\n",
              "    .dataframe thead th {\n",
              "        text-align: right;\n",
              "    }\n",
              "</style>\n",
              "<table border=\"1\" class=\"dataframe\">\n",
              "  <thead>\n",
              "    <tr style=\"text-align: right;\">\n",
              "      <th></th>\n",
              "      <th>url</th>\n",
              "      <th>whiskey</th>\n",
              "      <th>Whiskey_ID</th>\n",
              "      <th>price_dollar</th>\n",
              "      <th>price_euro</th>\n",
              "    </tr>\n",
              "  </thead>\n",
              "  <tbody>\n",
              "    <tr>\n",
              "      <th>6813</th>\n",
              "      <td>https://www.whiskybase.com/whiskies/whisky/15625/ardbeg-1959-ca</td>\n",
              "      <td>Ardbeg 1959 Ca</td>\n",
              "      <td>2</td>\n",
              "      <td>1853.0</td>\n",
              "      <td>1700.0</td>\n",
              "    </tr>\n",
              "  </tbody>\n",
              "</table>\n",
              "</div>\n",
              "      <button class=\"colab-df-convert\" onclick=\"convertToInteractive('df-72aff360-2092-4f53-a7b2-4cbcd54909e9')\"\n",
              "              title=\"Convert this dataframe to an interactive table.\"\n",
              "              style=\"display:none;\">\n",
              "        \n",
              "  <svg xmlns=\"http://www.w3.org/2000/svg\" height=\"24px\"viewBox=\"0 0 24 24\"\n",
              "       width=\"24px\">\n",
              "    <path d=\"M0 0h24v24H0V0z\" fill=\"none\"/>\n",
              "    <path d=\"M18.56 5.44l.94 2.06.94-2.06 2.06-.94-2.06-.94-.94-2.06-.94 2.06-2.06.94zm-11 1L8.5 8.5l.94-2.06 2.06-.94-2.06-.94L8.5 2.5l-.94 2.06-2.06.94zm10 10l.94 2.06.94-2.06 2.06-.94-2.06-.94-.94-2.06-.94 2.06-2.06.94z\"/><path d=\"M17.41 7.96l-1.37-1.37c-.4-.4-.92-.59-1.43-.59-.52 0-1.04.2-1.43.59L10.3 9.45l-7.72 7.72c-.78.78-.78 2.05 0 2.83L4 21.41c.39.39.9.59 1.41.59.51 0 1.02-.2 1.41-.59l7.78-7.78 2.81-2.81c.8-.78.8-2.07 0-2.86zM5.41 20L4 18.59l7.72-7.72 1.47 1.35L5.41 20z\"/>\n",
              "  </svg>\n",
              "      </button>\n",
              "      \n",
              "  <style>\n",
              "    .colab-df-container {\n",
              "      display:flex;\n",
              "      flex-wrap:wrap;\n",
              "      gap: 12px;\n",
              "    }\n",
              "\n",
              "    .colab-df-convert {\n",
              "      background-color: #E8F0FE;\n",
              "      border: none;\n",
              "      border-radius: 50%;\n",
              "      cursor: pointer;\n",
              "      display: none;\n",
              "      fill: #1967D2;\n",
              "      height: 32px;\n",
              "      padding: 0 0 0 0;\n",
              "      width: 32px;\n",
              "    }\n",
              "\n",
              "    .colab-df-convert:hover {\n",
              "      background-color: #E2EBFA;\n",
              "      box-shadow: 0px 1px 2px rgba(60, 64, 67, 0.3), 0px 1px 3px 1px rgba(60, 64, 67, 0.15);\n",
              "      fill: #174EA6;\n",
              "    }\n",
              "\n",
              "    [theme=dark] .colab-df-convert {\n",
              "      background-color: #3B4455;\n",
              "      fill: #D2E3FC;\n",
              "    }\n",
              "\n",
              "    [theme=dark] .colab-df-convert:hover {\n",
              "      background-color: #434B5C;\n",
              "      box-shadow: 0px 1px 3px 1px rgba(0, 0, 0, 0.15);\n",
              "      filter: drop-shadow(0px 1px 2px rgba(0, 0, 0, 0.3));\n",
              "      fill: #FFFFFF;\n",
              "    }\n",
              "  </style>\n",
              "\n",
              "      <script>\n",
              "        const buttonEl =\n",
              "          document.querySelector('#df-72aff360-2092-4f53-a7b2-4cbcd54909e9 button.colab-df-convert');\n",
              "        buttonEl.style.display =\n",
              "          google.colab.kernel.accessAllowed ? 'block' : 'none';\n",
              "\n",
              "        async function convertToInteractive(key) {\n",
              "          const element = document.querySelector('#df-72aff360-2092-4f53-a7b2-4cbcd54909e9');\n",
              "          const dataTable =\n",
              "            await google.colab.kernel.invokeFunction('convertToInteractive',\n",
              "                                                     [key], {});\n",
              "          if (!dataTable) return;\n",
              "\n",
              "          const docLinkHtml = 'Like what you see? Visit the ' +\n",
              "            '<a target=\"_blank\" href=https://colab.research.google.com/notebooks/data_table.ipynb>data table notebook</a>'\n",
              "            + ' to learn more about interactive tables.';\n",
              "          element.innerHTML = '';\n",
              "          dataTable['output_type'] = 'display_data';\n",
              "          await google.colab.output.renderOutput(dataTable, element);\n",
              "          const docLink = document.createElement('div');\n",
              "          docLink.innerHTML = docLinkHtml;\n",
              "          element.appendChild(docLink);\n",
              "        }\n",
              "      </script>\n",
              "    </div>\n",
              "  </div>\n",
              "  "
            ]
          },
          "metadata": {},
          "execution_count": 134
        }
      ]
    },
    {
      "cell_type": "markdown",
      "source": [
        "Function to return recommendations to the user"
      ],
      "metadata": {
        "id": "DoC8D_wBu7tG"
      }
    },
    {
      "cell_type": "code",
      "source": [
        "def get_recommendations(user_ratings, num_recs, priceEUR):\n",
        "    new_ratings_df = rec_match.append(user_ratings,ignore_index=True)\n",
        "    new_ratings_df = new_ratings_df[new_ratings_df['price_euro'] < priceEUR]\n",
        "    new_ratings_df = new_ratings_df.drop(columns=['url', 'whiskey', 'price_dollar', 'price_euro'])\n",
        "\n",
        "    #load in new df\n",
        "    new_data = Dataset.load_from_df(new_ratings_df,reader)\n",
        "    #create new svd object\n",
        "    svd_new = SVD()\n",
        "    #refit the model\n",
        "    svd_new.fit(new_data.build_full_trainset())\n",
        "\n",
        "    # predictions for the user\n",
        "    list_of_whiskies = []\n",
        "    for w_id in new_ratings_df['Whiskey_ID'].unique():\n",
        "        list_of_whiskies.append((w_id, svd_new.predict(new_ratings_df['User_ID'].max(),w_id)[3]))\n",
        "\n",
        "    # order the predictions from highest to lowest rated\n",
        "    ranked_whiskies = sorted(list_of_whiskies, key=lambda x:x[1],reverse=True)\n",
        "\n",
        "    rec_num = 1\n",
        "    for i in ranked_whiskies[:num_recs]:\n",
        "        recommended = rec_match[rec_match['Whiskey_ID'] == i[0]]\n",
        "        print('Recommendation number:', rec_num)\n",
        "        print('Whiskey: ' + recommended.values[0][1])\n",
        "        print('Price: ' + str(recommended.values[0][-1]))\n",
        "        print('URL: ' + recommended.values[0][0])\n",
        "        print('\\n')\n",
        "        rec_num +=1\n",
        "\n"
      ],
      "metadata": {
        "id": "xVd0Acwxu8rG"
      },
      "execution_count": 92,
      "outputs": []
    },
    {
      "cell_type": "code",
      "source": [
        "def BoozePal(df, num):\n",
        "    userID = rec_df.User_ID.max()+1\n",
        "    num_recs = input('Number of recommendations ? Enter a number from 1 to 10:\\n')\n",
        "    \n",
        "    while int(num_recs) > 10:\n",
        "        num_recs = input('You entered a number over 10. Please enter a number from 1 to 10 to continue. \\n')\n",
        "    priceEUR = input('Enter your budget for a bottle. EUR ')\n",
        "    rating_list = []\n",
        "    \n",
        "    while num > 0:\n",
        "        whiskey = df[df['price_euro'] < int(priceEUR)].sample(1)\n",
        "        print('\\nPlease rate the following {} whiskies. \\n'.format(num))\n",
        "        print('Whiskey: ' + whiskey.values[0][2])\n",
        "        print('Price: ' + str(whiskey.values[0][-1]))\n",
        "        print('URL: ' + str(whiskey.values[0][1]))\n",
        "        rating = input('Rate this whiskey on a scale of 1-100, press n if you do not know it. :\\n')\n",
        "            \n",
        "        if rating == 'n':\n",
        "            continue\n",
        "        \n",
        "        if int(rating) > 100:\n",
        "            print('Rating must be below 100!')\n",
        "            continue\n",
        "        \n",
        "        else:\n",
        "            rating_one_whiskey = {'User_ID':userID,'Whiskey_ID': whiskey['Whiskey_ID'].values[0],'rating': rating}\n",
        "            rating_list.append(rating_one_whiskey) \n",
        "            num -= 1\n",
        "        time.sleep(.5)\n",
        "    print('\\n'+'BoozePal recommendation : '+'\\n')\n",
        "    \n",
        "    time.sleep(1.5)\n",
        "    get_recommendations(rating_list, int(num_recs), int(priceEUR))"
      ],
      "metadata": {
        "id": "EGCiql-4vRiW"
      },
      "execution_count": 95,
      "outputs": []
    },
    {
      "cell_type": "code",
      "source": [
        "user_ratings= BoozePal(df, 5)"
      ],
      "metadata": {
        "colab": {
          "base_uri": "https://localhost:8080/"
        },
        "id": "fJAXFsQsvYVr",
        "outputId": "5e6ad59d-587d-4ea2-d569-e463d8804927"
      },
      "execution_count": 97,
      "outputs": [
        {
          "output_type": "stream",
          "name": "stdout",
          "text": [
            "Number of recommendations ? Enter a number from 1 to 10:\n",
            "3\n",
            "Enter your budget for a bottle. EUR 100\n",
            "\n",
            "Please rate the following 5 whiskies. \n",
            "\n",
            "Whiskey: https://www.whiskybase.com/whiskies/whisky/74716/bowmore-1972\n",
            "Price: 97.01\n",
            "URL: 91\n",
            "Rate this whiskey on a scale of 1-100, press n if you do not know it. :\n",
            "100\n",
            "\n",
            "Please rate the following 4 whiskies. \n",
            "\n",
            "Whiskey: https://www.whiskybase.com/whiskies/whisky/95396/port-ellen-1969-gm\n",
            "Price: 0.0\n",
            "URL: 95\n",
            "Rate this whiskey on a scale of 1-100, press n if you do not know it. :\n",
            "10\n",
            "\n",
            "Please rate the following 3 whiskies. \n",
            "\n",
            "Whiskey: https://www.whiskybase.com/whiskies/whisky/85425/glenglassaugh-37-year-old\n",
            "Price: 0.0\n",
            "URL: 94\n",
            "Rate this whiskey on a scale of 1-100, press n if you do not know it. :\n",
            "50\n",
            "\n",
            "Please rate the following 2 whiskies. \n",
            "\n",
            "Whiskey: https://www.whiskybase.com/whiskies/whisky/85423/glenglassaugh-44-year-old\n",
            "Price: 97.01\n",
            "URL: 94\n",
            "Rate this whiskey on a scale of 1-100, press n if you do not know it. :\n",
            "100\n",
            "\n",
            "Please rate the following 1 whiskies. \n",
            "\n",
            "Whiskey: https://www.whiskybase.com/whiskies/whisky/95396/port-ellen-1969-gm\n",
            "Price: 0.0\n",
            "URL: 90\n",
            "Rate this whiskey on a scale of 1-100, press n if you do not know it. :\n",
            "n\n",
            "\n",
            "Please rate the following 1 whiskies. \n",
            "\n",
            "Whiskey: https://www.whiskybase.com/whiskies/whisky/95396/port-ellen-1969-gm\n",
            "Price: 0.0\n",
            "URL: 92\n",
            "Rate this whiskey on a scale of 1-100, press n if you do not know it. :\n",
            "n\n",
            "\n",
            "Please rate the following 1 whiskies. \n",
            "\n",
            "Whiskey: https://www.whiskybase.com/whiskies/whisky/95396/port-ellen-1969-gm\n",
            "Price: 0.0\n",
            "URL: 94\n",
            "Rate this whiskey on a scale of 1-100, press n if you do not know it. :\n",
            "n\n",
            "\n",
            "Please rate the following 1 whiskies. \n",
            "\n",
            "Whiskey: https://www.whiskybase.com/whiskies/whisky/85423/glenglassaugh-44-year-old\n",
            "Price: 97.01\n",
            "URL: 94\n",
            "Rate this whiskey on a scale of 1-100, press n if you do not know it. :\n",
            "100\n",
            "\n",
            "BoozePal recommendation : \n",
            "\n",
            "Recommendation number: 1\n",
            "Whiskey: Glenglassaugh 37 Year Old\n",
            "Price: 0.0\n",
            "URL: https://www.whiskybase.com/whiskies/whisky/85425/glenglassaugh-37-year-old\n",
            "\n",
            "\n",
            "Recommendation number: 2\n",
            "Whiskey: Glenglassaugh 44 Year Old\n",
            "Price: 89.0\n",
            "URL: https://www.whiskybase.com/whiskies/whisky/85423/glenglassaugh-44-year-old\n",
            "\n",
            "\n"
          ]
        }
      ]
    }
  ]
}