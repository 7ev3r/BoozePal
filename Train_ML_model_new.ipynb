{
  "cells": [
    {
      "cell_type": "code",
      "execution_count": 3,
      "metadata": {
        "colab": {
          "base_uri": "https://localhost:8080/"
        },
        "id": "v1CkhSbXfi-E",
        "outputId": "c61a2a06-9f1f-4f63-9b49-fc51de52bb9e"
      },
      "outputs": [
        {
          "output_type": "stream",
          "name": "stdout",
          "text": [
            "Looking in indexes: https://pypi.org/simple, https://us-python.pkg.dev/colab-wheels/public/simple/\n",
            "Collecting scikit-surprise\n",
            "  Downloading scikit-surprise-1.1.3.tar.gz (771 kB)\n",
            "\u001b[2K     \u001b[90m━━━━━━━━━━━━━━━━━━━━━━━━━━━━━━━━━━━━━━\u001b[0m \u001b[32m772.0/772.0 kB\u001b[0m \u001b[31m37.7 MB/s\u001b[0m eta \u001b[36m0:00:00\u001b[0m\n",
            "\u001b[?25h  Preparing metadata (setup.py) ... \u001b[?25l\u001b[?25hdone\n",
            "Requirement already satisfied: joblib>=1.0.0 in /usr/local/lib/python3.10/dist-packages (from scikit-surprise) (1.2.0)\n",
            "Requirement already satisfied: numpy>=1.17.3 in /usr/local/lib/python3.10/dist-packages (from scikit-surprise) (1.22.4)\n",
            "Requirement already satisfied: scipy>=1.3.2 in /usr/local/lib/python3.10/dist-packages (from scikit-surprise) (1.10.1)\n",
            "Building wheels for collected packages: scikit-surprise\n",
            "  Building wheel for scikit-surprise (setup.py) ... \u001b[?25l\u001b[?25hdone\n",
            "  Created wheel for scikit-surprise: filename=scikit_surprise-1.1.3-cp310-cp310-linux_x86_64.whl size=3095458 sha256=4d76e698464ca1a1dea8555616d9510a36d9b494e7dea7d66a134278b102417f\n",
            "  Stored in directory: /root/.cache/pip/wheels/a5/ca/a8/4e28def53797fdc4363ca4af740db15a9c2f1595ebc51fb445\n",
            "Successfully built scikit-surprise\n",
            "Installing collected packages: scikit-surprise\n",
            "Successfully installed scikit-surprise-1.1.3\n"
          ]
        }
      ],
      "source": [
        "pip install scikit-surprise"
      ]
    },
    {
      "cell_type": "code",
      "execution_count": 4,
      "metadata": {
        "colab": {
          "base_uri": "https://localhost:8080/"
        },
        "id": "FBABOJK-ftQP",
        "outputId": "f72e4a16-0ac4-4f40-bfd5-b653df07398e"
      },
      "outputs": [
        {
          "output_type": "execute_result",
          "data": {
            "text/plain": [
              "(37223, 6)"
            ]
          },
          "metadata": {},
          "execution_count": 4
        }
      ],
      "source": [
        "import pandas as pd\n",
        "from surprise.model_selection import cross_validate\n",
        "from surprise.prediction_algorithms import SVD\n",
        "from surprise.prediction_algorithms import KNNWithMeans, KNNBasic, KNNBaseline\n",
        "from surprise.model_selection import GridSearchCV\n",
        "import numpy as np\n",
        "import time\n",
        "\n",
        "df = pd.read_csv('Clean_whiskey_data.csv')\n",
        "df.shape"
      ]
    },
    {
      "cell_type": "code",
      "execution_count": 5,
      "metadata": {
        "colab": {
          "base_uri": "https://localhost:8080/",
          "height": 187
        },
        "id": "YpkU_iKif3_x",
        "outputId": "4120e1ef-2f6e-4b4c-84c9-ae2b76762d38"
      },
      "outputs": [
        {
          "output_type": "execute_result",
          "data": {
            "text/plain": [
              "                   whiskey  rating  \\\n",
              "24337   glenrothes-2011-sv      85   \n",
              "13047  chichibu-the-peated      88   \n",
              "23456       glengoyne-2011      91   \n",
              "\n",
              "                                                                         url  \\\n",
              "24337   https://www.whiskybase.com/whiskies/whisky/217267/glenrothes-2011-sv   \n",
              "13047  https://www.whiskybase.com/whiskies/whisky/206450/chichibu-the-peated   \n",
              "23456       https://www.whiskybase.com/whiskies/whisky/215752/glengoyne-2011   \n",
              "\n",
              "       User_ID  Whiskey_ID  price_euros  \n",
              "24337   1123.0      1815.0        60.00  \n",
              "13047   1520.0      1025.0       343.27  \n",
              "23456    968.0      1744.0       120.00  "
            ],
            "text/html": [
              "\n",
              "  <div id=\"df-00b294e3-83e5-4bcd-8c93-39ae39a021f5\">\n",
              "    <div class=\"colab-df-container\">\n",
              "      <div>\n",
              "<style scoped>\n",
              "    .dataframe tbody tr th:only-of-type {\n",
              "        vertical-align: middle;\n",
              "    }\n",
              "\n",
              "    .dataframe tbody tr th {\n",
              "        vertical-align: top;\n",
              "    }\n",
              "\n",
              "    .dataframe thead th {\n",
              "        text-align: right;\n",
              "    }\n",
              "</style>\n",
              "<table border=\"1\" class=\"dataframe\">\n",
              "  <thead>\n",
              "    <tr style=\"text-align: right;\">\n",
              "      <th></th>\n",
              "      <th>whiskey</th>\n",
              "      <th>rating</th>\n",
              "      <th>url</th>\n",
              "      <th>User_ID</th>\n",
              "      <th>Whiskey_ID</th>\n",
              "      <th>price_euros</th>\n",
              "    </tr>\n",
              "  </thead>\n",
              "  <tbody>\n",
              "    <tr>\n",
              "      <th>24337</th>\n",
              "      <td>glenrothes-2011-sv</td>\n",
              "      <td>85</td>\n",
              "      <td>https://www.whiskybase.com/whiskies/whisky/217267/glenrothes-2011-sv</td>\n",
              "      <td>1123.0</td>\n",
              "      <td>1815.0</td>\n",
              "      <td>60.00</td>\n",
              "    </tr>\n",
              "    <tr>\n",
              "      <th>13047</th>\n",
              "      <td>chichibu-the-peated</td>\n",
              "      <td>88</td>\n",
              "      <td>https://www.whiskybase.com/whiskies/whisky/206450/chichibu-the-peated</td>\n",
              "      <td>1520.0</td>\n",
              "      <td>1025.0</td>\n",
              "      <td>343.27</td>\n",
              "    </tr>\n",
              "    <tr>\n",
              "      <th>23456</th>\n",
              "      <td>glengoyne-2011</td>\n",
              "      <td>91</td>\n",
              "      <td>https://www.whiskybase.com/whiskies/whisky/215752/glengoyne-2011</td>\n",
              "      <td>968.0</td>\n",
              "      <td>1744.0</td>\n",
              "      <td>120.00</td>\n",
              "    </tr>\n",
              "  </tbody>\n",
              "</table>\n",
              "</div>\n",
              "      <button class=\"colab-df-convert\" onclick=\"convertToInteractive('df-00b294e3-83e5-4bcd-8c93-39ae39a021f5')\"\n",
              "              title=\"Convert this dataframe to an interactive table.\"\n",
              "              style=\"display:none;\">\n",
              "        \n",
              "  <svg xmlns=\"http://www.w3.org/2000/svg\" height=\"24px\"viewBox=\"0 0 24 24\"\n",
              "       width=\"24px\">\n",
              "    <path d=\"M0 0h24v24H0V0z\" fill=\"none\"/>\n",
              "    <path d=\"M18.56 5.44l.94 2.06.94-2.06 2.06-.94-2.06-.94-.94-2.06-.94 2.06-2.06.94zm-11 1L8.5 8.5l.94-2.06 2.06-.94-2.06-.94L8.5 2.5l-.94 2.06-2.06.94zm10 10l.94 2.06.94-2.06 2.06-.94-2.06-.94-.94-2.06-.94 2.06-2.06.94z\"/><path d=\"M17.41 7.96l-1.37-1.37c-.4-.4-.92-.59-1.43-.59-.52 0-1.04.2-1.43.59L10.3 9.45l-7.72 7.72c-.78.78-.78 2.05 0 2.83L4 21.41c.39.39.9.59 1.41.59.51 0 1.02-.2 1.41-.59l7.78-7.78 2.81-2.81c.8-.78.8-2.07 0-2.86zM5.41 20L4 18.59l7.72-7.72 1.47 1.35L5.41 20z\"/>\n",
              "  </svg>\n",
              "      </button>\n",
              "      \n",
              "  <style>\n",
              "    .colab-df-container {\n",
              "      display:flex;\n",
              "      flex-wrap:wrap;\n",
              "      gap: 12px;\n",
              "    }\n",
              "\n",
              "    .colab-df-convert {\n",
              "      background-color: #E8F0FE;\n",
              "      border: none;\n",
              "      border-radius: 50%;\n",
              "      cursor: pointer;\n",
              "      display: none;\n",
              "      fill: #1967D2;\n",
              "      height: 32px;\n",
              "      padding: 0 0 0 0;\n",
              "      width: 32px;\n",
              "    }\n",
              "\n",
              "    .colab-df-convert:hover {\n",
              "      background-color: #E2EBFA;\n",
              "      box-shadow: 0px 1px 2px rgba(60, 64, 67, 0.3), 0px 1px 3px 1px rgba(60, 64, 67, 0.15);\n",
              "      fill: #174EA6;\n",
              "    }\n",
              "\n",
              "    [theme=dark] .colab-df-convert {\n",
              "      background-color: #3B4455;\n",
              "      fill: #D2E3FC;\n",
              "    }\n",
              "\n",
              "    [theme=dark] .colab-df-convert:hover {\n",
              "      background-color: #434B5C;\n",
              "      box-shadow: 0px 1px 3px 1px rgba(0, 0, 0, 0.15);\n",
              "      filter: drop-shadow(0px 1px 2px rgba(0, 0, 0, 0.3));\n",
              "      fill: #FFFFFF;\n",
              "    }\n",
              "  </style>\n",
              "\n",
              "      <script>\n",
              "        const buttonEl =\n",
              "          document.querySelector('#df-00b294e3-83e5-4bcd-8c93-39ae39a021f5 button.colab-df-convert');\n",
              "        buttonEl.style.display =\n",
              "          google.colab.kernel.accessAllowed ? 'block' : 'none';\n",
              "\n",
              "        async function convertToInteractive(key) {\n",
              "          const element = document.querySelector('#df-00b294e3-83e5-4bcd-8c93-39ae39a021f5');\n",
              "          const dataTable =\n",
              "            await google.colab.kernel.invokeFunction('convertToInteractive',\n",
              "                                                     [key], {});\n",
              "          if (!dataTable) return;\n",
              "\n",
              "          const docLinkHtml = 'Like what you see? Visit the ' +\n",
              "            '<a target=\"_blank\" href=https://colab.research.google.com/notebooks/data_table.ipynb>data table notebook</a>'\n",
              "            + ' to learn more about interactive tables.';\n",
              "          element.innerHTML = '';\n",
              "          dataTable['output_type'] = 'display_data';\n",
              "          await google.colab.output.renderOutput(dataTable, element);\n",
              "          const docLink = document.createElement('div');\n",
              "          docLink.innerHTML = docLinkHtml;\n",
              "          element.appendChild(docLink);\n",
              "        }\n",
              "      </script>\n",
              "    </div>\n",
              "  </div>\n",
              "  "
            ]
          },
          "metadata": {},
          "execution_count": 5
        }
      ],
      "source": [
        "pd.options.display.max_colwidth = 10000\n",
        "df.sample(n=3)"
      ]
    },
    {
      "cell_type": "code",
      "execution_count": 6,
      "metadata": {
        "colab": {
          "base_uri": "https://localhost:8080/",
          "height": 250
        },
        "id": "Wg0W_BhAf74c",
        "outputId": "8e4ced4e-1e7e-4c07-a8a8-87f2cc8ffc4d"
      },
      "outputs": [
        {
          "output_type": "execute_result",
          "data": {
            "text/plain": [
              "                                                                                url  \\\n",
              "0   https://www.whiskybase.com/whiskies/whisky/218272/1770-2015-glasgow-single-malt   \n",
              "17  https://www.whiskybase.com/whiskies/whisky/220758/1770-2016-glasgow-single-malt   \n",
              "37                      https://www.whiskybase.com/whiskies/whisky/205065/1770-2017   \n",
              "45                      https://www.whiskybase.com/whiskies/whisky/217751/1770-2018   \n",
              "61  https://www.whiskybase.com/whiskies/whisky/220759/1770-2018-glasgow-single-malt   \n",
              "\n",
              "                          whiskey  Whiskey_ID  price_euros  \n",
              "0   1770 2015 Glasgow Single Malt         0.0        85.14  \n",
              "17  1770 2016 Glasgow Single Malt         1.0        89.44  \n",
              "37                      1770 2017         2.0       160.02  \n",
              "45                      1770 2018         3.0        75.76  \n",
              "61  1770 2018 Glasgow Single Malt         4.0        83.88  "
            ],
            "text/html": [
              "\n",
              "  <div id=\"df-6382f354-f522-4b2d-bd36-547b2cb74dab\">\n",
              "    <div class=\"colab-df-container\">\n",
              "      <div>\n",
              "<style scoped>\n",
              "    .dataframe tbody tr th:only-of-type {\n",
              "        vertical-align: middle;\n",
              "    }\n",
              "\n",
              "    .dataframe tbody tr th {\n",
              "        vertical-align: top;\n",
              "    }\n",
              "\n",
              "    .dataframe thead th {\n",
              "        text-align: right;\n",
              "    }\n",
              "</style>\n",
              "<table border=\"1\" class=\"dataframe\">\n",
              "  <thead>\n",
              "    <tr style=\"text-align: right;\">\n",
              "      <th></th>\n",
              "      <th>url</th>\n",
              "      <th>whiskey</th>\n",
              "      <th>Whiskey_ID</th>\n",
              "      <th>price_euros</th>\n",
              "    </tr>\n",
              "  </thead>\n",
              "  <tbody>\n",
              "    <tr>\n",
              "      <th>0</th>\n",
              "      <td>https://www.whiskybase.com/whiskies/whisky/218272/1770-2015-glasgow-single-malt</td>\n",
              "      <td>1770 2015 Glasgow Single Malt</td>\n",
              "      <td>0.0</td>\n",
              "      <td>85.14</td>\n",
              "    </tr>\n",
              "    <tr>\n",
              "      <th>17</th>\n",
              "      <td>https://www.whiskybase.com/whiskies/whisky/220758/1770-2016-glasgow-single-malt</td>\n",
              "      <td>1770 2016 Glasgow Single Malt</td>\n",
              "      <td>1.0</td>\n",
              "      <td>89.44</td>\n",
              "    </tr>\n",
              "    <tr>\n",
              "      <th>37</th>\n",
              "      <td>https://www.whiskybase.com/whiskies/whisky/205065/1770-2017</td>\n",
              "      <td>1770 2017</td>\n",
              "      <td>2.0</td>\n",
              "      <td>160.02</td>\n",
              "    </tr>\n",
              "    <tr>\n",
              "      <th>45</th>\n",
              "      <td>https://www.whiskybase.com/whiskies/whisky/217751/1770-2018</td>\n",
              "      <td>1770 2018</td>\n",
              "      <td>3.0</td>\n",
              "      <td>75.76</td>\n",
              "    </tr>\n",
              "    <tr>\n",
              "      <th>61</th>\n",
              "      <td>https://www.whiskybase.com/whiskies/whisky/220759/1770-2018-glasgow-single-malt</td>\n",
              "      <td>1770 2018 Glasgow Single Malt</td>\n",
              "      <td>4.0</td>\n",
              "      <td>83.88</td>\n",
              "    </tr>\n",
              "  </tbody>\n",
              "</table>\n",
              "</div>\n",
              "      <button class=\"colab-df-convert\" onclick=\"convertToInteractive('df-6382f354-f522-4b2d-bd36-547b2cb74dab')\"\n",
              "              title=\"Convert this dataframe to an interactive table.\"\n",
              "              style=\"display:none;\">\n",
              "        \n",
              "  <svg xmlns=\"http://www.w3.org/2000/svg\" height=\"24px\"viewBox=\"0 0 24 24\"\n",
              "       width=\"24px\">\n",
              "    <path d=\"M0 0h24v24H0V0z\" fill=\"none\"/>\n",
              "    <path d=\"M18.56 5.44l.94 2.06.94-2.06 2.06-.94-2.06-.94-.94-2.06-.94 2.06-2.06.94zm-11 1L8.5 8.5l.94-2.06 2.06-.94-2.06-.94L8.5 2.5l-.94 2.06-2.06.94zm10 10l.94 2.06.94-2.06 2.06-.94-2.06-.94-.94-2.06-.94 2.06-2.06.94z\"/><path d=\"M17.41 7.96l-1.37-1.37c-.4-.4-.92-.59-1.43-.59-.52 0-1.04.2-1.43.59L10.3 9.45l-7.72 7.72c-.78.78-.78 2.05 0 2.83L4 21.41c.39.39.9.59 1.41.59.51 0 1.02-.2 1.41-.59l7.78-7.78 2.81-2.81c.8-.78.8-2.07 0-2.86zM5.41 20L4 18.59l7.72-7.72 1.47 1.35L5.41 20z\"/>\n",
              "  </svg>\n",
              "      </button>\n",
              "      \n",
              "  <style>\n",
              "    .colab-df-container {\n",
              "      display:flex;\n",
              "      flex-wrap:wrap;\n",
              "      gap: 12px;\n",
              "    }\n",
              "\n",
              "    .colab-df-convert {\n",
              "      background-color: #E8F0FE;\n",
              "      border: none;\n",
              "      border-radius: 50%;\n",
              "      cursor: pointer;\n",
              "      display: none;\n",
              "      fill: #1967D2;\n",
              "      height: 32px;\n",
              "      padding: 0 0 0 0;\n",
              "      width: 32px;\n",
              "    }\n",
              "\n",
              "    .colab-df-convert:hover {\n",
              "      background-color: #E2EBFA;\n",
              "      box-shadow: 0px 1px 2px rgba(60, 64, 67, 0.3), 0px 1px 3px 1px rgba(60, 64, 67, 0.15);\n",
              "      fill: #174EA6;\n",
              "    }\n",
              "\n",
              "    [theme=dark] .colab-df-convert {\n",
              "      background-color: #3B4455;\n",
              "      fill: #D2E3FC;\n",
              "    }\n",
              "\n",
              "    [theme=dark] .colab-df-convert:hover {\n",
              "      background-color: #434B5C;\n",
              "      box-shadow: 0px 1px 3px 1px rgba(0, 0, 0, 0.15);\n",
              "      filter: drop-shadow(0px 1px 2px rgba(0, 0, 0, 0.3));\n",
              "      fill: #FFFFFF;\n",
              "    }\n",
              "  </style>\n",
              "\n",
              "      <script>\n",
              "        const buttonEl =\n",
              "          document.querySelector('#df-6382f354-f522-4b2d-bd36-547b2cb74dab button.colab-df-convert');\n",
              "        buttonEl.style.display =\n",
              "          google.colab.kernel.accessAllowed ? 'block' : 'none';\n",
              "\n",
              "        async function convertToInteractive(key) {\n",
              "          const element = document.querySelector('#df-6382f354-f522-4b2d-bd36-547b2cb74dab');\n",
              "          const dataTable =\n",
              "            await google.colab.kernel.invokeFunction('convertToInteractive',\n",
              "                                                     [key], {});\n",
              "          if (!dataTable) return;\n",
              "\n",
              "          const docLinkHtml = 'Like what you see? Visit the ' +\n",
              "            '<a target=\"_blank\" href=https://colab.research.google.com/notebooks/data_table.ipynb>data table notebook</a>'\n",
              "            + ' to learn more about interactive tables.';\n",
              "          element.innerHTML = '';\n",
              "          dataTable['output_type'] = 'display_data';\n",
              "          await google.colab.output.renderOutput(dataTable, element);\n",
              "          const docLink = document.createElement('div');\n",
              "          docLink.innerHTML = docLinkHtml;\n",
              "          element.appendChild(docLink);\n",
              "        }\n",
              "      </script>\n",
              "    </div>\n",
              "  </div>\n",
              "  "
            ]
          },
          "metadata": {},
          "execution_count": 6
        }
      ],
      "source": [
        "df['whiskey'] = df['whiskey'].str.replace('-', ' ').str.title()\n",
        "rec_df = df.drop(columns = ['url', 'price_euros'])\n",
        "rec_df = rec_df[['User_ID', 'Whiskey_ID', 'rating']]\n",
        "rec_match = df[['url', 'whiskey', 'Whiskey_ID', 'price_euros']].drop_duplicates('Whiskey_ID')\n",
        "rec_match.head()"
      ]
    },
    {
      "cell_type": "code",
      "execution_count": null,
      "metadata": {
        "colab": {
          "base_uri": "https://localhost:8080/"
        },
        "id": "q2yJR5W2gHBx",
        "outputId": "34bc44b9-e46f-4417-9da2-e774f7f464a4"
      },
      "outputs": [
        {
          "output_type": "execute_result",
          "data": {
            "text/plain": [
              "2377.0"
            ]
          },
          "metadata": {},
          "execution_count": 17
        }
      ],
      "source": [
        "rec_df.User_ID.max()"
      ]
    },
    {
      "cell_type": "markdown",
      "metadata": {
        "id": "Dbf83kB7w-qs"
      },
      "source": [
        "Checking RMSE "
      ]
    },
    {
      "cell_type": "code",
      "execution_count": 7,
      "metadata": {
        "colab": {
          "base_uri": "https://localhost:8080/"
        },
        "id": "wxhA0IWDgJ1N",
        "outputId": "89422f24-f3c1-40c4-c4e9-e7ca78352dcb"
      },
      "outputs": [
        {
          "output_type": "stream",
          "name": "stdout",
          "text": [
            "RMSE: 2.7449\n"
          ]
        },
        {
          "output_type": "execute_result",
          "data": {
            "text/plain": [
              "2.7448678591366433"
            ]
          },
          "metadata": {},
          "execution_count": 7
        }
      ],
      "source": [
        "from surprise import Reader, Dataset\n",
        "reader = Reader(rating_scale = (1,100))\n",
        "data = Dataset.load_from_df(rec_df,reader)\n",
        "from surprise.model_selection import train_test_split\n",
        "from surprise import accuracy\n",
        "trainset, testset = train_test_split(data, test_size=0.25, random_state = 100)\n",
        "svd = SVD()\n",
        "svd.fit(trainset)\n",
        "preds = svd.test(testset)\n",
        "accuracy.rmse(preds)"
      ]
    },
    {
      "cell_type": "code",
      "source": [
        "import matplotlib.pyplot as plt\n",
        "\n",
        "# Add a custom function to perform cross-validation\n",
        "def custom_cross_validate(algo, data, measures=['rmse'], cv=5, verbose=True):\n",
        "    from surprise.model_selection import KFold\n",
        "    kf = KFold(n_splits=cv)\n",
        "    \n",
        "    rmse_values = []\n",
        "    for trainset, testset in kf.split(data):\n",
        "        algo.fit(trainset)\n",
        "        predictions = algo.test(testset)\n",
        "        rmse = accuracy.rmse(predictions, verbose=False)\n",
        "        rmse_values.append(rmse)\n",
        "    \n",
        "    mean_rmse = np.mean(rmse_values)\n",
        "    return rmse_values, mean_rmse\n",
        "\n",
        "# Set up the SVD algorithm with a specific number of epochs\n",
        "algo = SVD(n_epochs=100, verbose=False)\n",
        "\n",
        "# Perform custom cross-validation\n",
        "rmse_values, mean_rmse = custom_cross_validate(algo, data, measures=['rmse'], cv=5)\n",
        "\n",
        "# Plot accuracy (RMSE) curve\n",
        "plt.figure(figsize=(10, 5))\n",
        "plt.plot(rmse_values, label=\"Validation RMSE\")\n",
        "plt.axhline(y=mean_rmse, color='r', linestyle='--', label=\"Mean RMSE\")\n",
        "plt.xlabel(\"Fold\")\n",
        "plt.ylabel(\"RMSE\")\n",
        "plt.title(\"Accuracy (RMSE) Curve\")\n",
        "plt.legend()\n",
        "plt.show()"
      ],
      "metadata": {
        "id": "nKyjfud-zWk-",
        "outputId": "e1895cc6-de2f-4ada-846d-64432ea5df6d",
        "colab": {
          "base_uri": "https://localhost:8080/",
          "height": 487
        }
      },
      "execution_count": null,
      "outputs": [
        {
          "output_type": "display_data",
          "data": {
            "text/plain": [
              "<Figure size 1000x500 with 1 Axes>"
            ],
            "image/png": "[encoded data removed]"
          },
          "metadata": {}
        }
      ]
    },
    {
      "cell_type": "markdown",
      "source": [
        "The SVD model in Surprise has two main components: the user factors matrix (P) and the item factors matrix (Q). Number of factors (default is 100) used in the SVD model."
      ],
      "metadata": {
        "id": "NMO5qkT19NBr"
      }
    },
    {
      "cell_type": "code",
      "source": [
        "# Fit the SVD model\n",
        "svd = SVD()\n",
        "svd.fit(trainset)\n",
        "\n",
        "# Get the user factors matrix (P) and item factors matrix (Q)\n",
        "P = svd.pu\n",
        "Q = svd.qi\n",
        "\n",
        "# Print the shapes of P and Q\n",
        "print(\"User factors matrix (P) shape:\", P.shape)\n",
        "print(\"Item factors matrix (Q) shape:\", Q.shape)"
      ],
      "metadata": {
        "colab": {
          "base_uri": "https://localhost:8080/"
        },
        "id": "M39AlopT8IVP",
        "outputId": "6fdc6225-2843-46e7-a0a3-7502ce6b5246"
      },
      "execution_count": 8,
      "outputs": [
        {
          "output_type": "stream",
          "name": "stdout",
          "text": [
            "User factors matrix (P) shape: (2329, 100)\n",
            "Item factors matrix (Q) shape: (2590, 100)\n"
          ]
        }
      ]
    },
    {
      "cell_type": "code",
      "execution_count": null,
      "metadata": {
        "colab": {
          "base_uri": "https://localhost:8080/",
          "height": 98
        },
        "id": "DlDPhgDKgU91",
        "outputId": "1c4bb26c-9487-4633-a219-17134d631bda"
      },
      "outputs": [
        {
          "output_type": "stream",
          "name": "stdout",
          "text": [
            "user: 601        item: 0          r_ui = 90.00   est = 87.48   {'was_impossible': False}\n"
          ]
        },
        {
          "output_type": "execute_result",
          "data": {
            "text/plain": [
              "                                                                               url  \\\n",
              "0  https://www.whiskybase.com/whiskies/whisky/218272/1770-2015-glasgow-single-malt   \n",
              "\n",
              "                         whiskey  Whiskey_ID  price_euros  \n",
              "0  1770 2015 Glasgow Single Malt         0.0        85.14  "
            ],
            "text/html": [
              "\n",
              "  <div id=\"df-7bf605ed-8b0d-4754-8f9e-787b0db5bec3\">\n",
              "    <div class=\"colab-df-container\">\n",
              "      <div>\n",
              "<style scoped>\n",
              "    .dataframe tbody tr th:only-of-type {\n",
              "        vertical-align: middle;\n",
              "    }\n",
              "\n",
              "    .dataframe tbody tr th {\n",
              "        vertical-align: top;\n",
              "    }\n",
              "\n",
              "    .dataframe thead th {\n",
              "        text-align: right;\n",
              "    }\n",
              "</style>\n",
              "<table border=\"1\" class=\"dataframe\">\n",
              "  <thead>\n",
              "    <tr style=\"text-align: right;\">\n",
              "      <th></th>\n",
              "      <th>url</th>\n",
              "      <th>whiskey</th>\n",
              "      <th>Whiskey_ID</th>\n",
              "      <th>price_euros</th>\n",
              "    </tr>\n",
              "  </thead>\n",
              "  <tbody>\n",
              "    <tr>\n",
              "      <th>0</th>\n",
              "      <td>https://www.whiskybase.com/whiskies/whisky/218272/1770-2015-glasgow-single-malt</td>\n",
              "      <td>1770 2015 Glasgow Single Malt</td>\n",
              "      <td>0.0</td>\n",
              "      <td>85.14</td>\n",
              "    </tr>\n",
              "  </tbody>\n",
              "</table>\n",
              "</div>\n",
              "      <button class=\"colab-df-convert\" onclick=\"convertToInteractive('df-7bf605ed-8b0d-4754-8f9e-787b0db5bec3')\"\n",
              "              title=\"Convert this dataframe to an interactive table.\"\n",
              "              style=\"display:none;\">\n",
              "        \n",
              "  <svg xmlns=\"http://www.w3.org/2000/svg\" height=\"24px\"viewBox=\"0 0 24 24\"\n",
              "       width=\"24px\">\n",
              "    <path d=\"M0 0h24v24H0V0z\" fill=\"none\"/>\n",
              "    <path d=\"M18.56 5.44l.94 2.06.94-2.06 2.06-.94-2.06-.94-.94-2.06-.94 2.06-2.06.94zm-11 1L8.5 8.5l.94-2.06 2.06-.94-2.06-.94L8.5 2.5l-.94 2.06-2.06.94zm10 10l.94 2.06.94-2.06 2.06-.94-2.06-.94-.94-2.06-.94 2.06-2.06.94z\"/><path d=\"M17.41 7.96l-1.37-1.37c-.4-.4-.92-.59-1.43-.59-.52 0-1.04.2-1.43.59L10.3 9.45l-7.72 7.72c-.78.78-.78 2.05 0 2.83L4 21.41c.39.39.9.59 1.41.59.51 0 1.02-.2 1.41-.59l7.78-7.78 2.81-2.81c.8-.78.8-2.07 0-2.86zM5.41 20L4 18.59l7.72-7.72 1.47 1.35L5.41 20z\"/>\n",
              "  </svg>\n",
              "      </button>\n",
              "      \n",
              "  <style>\n",
              "    .colab-df-container {\n",
              "      display:flex;\n",
              "      flex-wrap:wrap;\n",
              "      gap: 12px;\n",
              "    }\n",
              "\n",
              "    .colab-df-convert {\n",
              "      background-color: #E8F0FE;\n",
              "      border: none;\n",
              "      border-radius: 50%;\n",
              "      cursor: pointer;\n",
              "      display: none;\n",
              "      fill: #1967D2;\n",
              "      height: 32px;\n",
              "      padding: 0 0 0 0;\n",
              "      width: 32px;\n",
              "    }\n",
              "\n",
              "    .colab-df-convert:hover {\n",
              "      background-color: #E2EBFA;\n",
              "      box-shadow: 0px 1px 2px rgba(60, 64, 67, 0.3), 0px 1px 3px 1px rgba(60, 64, 67, 0.15);\n",
              "      fill: #174EA6;\n",
              "    }\n",
              "\n",
              "    [theme=dark] .colab-df-convert {\n",
              "      background-color: #3B4455;\n",
              "      fill: #D2E3FC;\n",
              "    }\n",
              "\n",
              "    [theme=dark] .colab-df-convert:hover {\n",
              "      background-color: #434B5C;\n",
              "      box-shadow: 0px 1px 3px 1px rgba(0, 0, 0, 0.15);\n",
              "      filter: drop-shadow(0px 1px 2px rgba(0, 0, 0, 0.3));\n",
              "      fill: #FFFFFF;\n",
              "    }\n",
              "  </style>\n",
              "\n",
              "      <script>\n",
              "        const buttonEl =\n",
              "          document.querySelector('#df-7bf605ed-8b0d-4754-8f9e-787b0db5bec3 button.colab-df-convert');\n",
              "        buttonEl.style.display =\n",
              "          google.colab.kernel.accessAllowed ? 'block' : 'none';\n",
              "\n",
              "        async function convertToInteractive(key) {\n",
              "          const element = document.querySelector('#df-7bf605ed-8b0d-4754-8f9e-787b0db5bec3');\n",
              "          const dataTable =\n",
              "            await google.colab.kernel.invokeFunction('convertToInteractive',\n",
              "                                                     [key], {});\n",
              "          if (!dataTable) return;\n",
              "\n",
              "          const docLinkHtml = 'Like what you see? Visit the ' +\n",
              "            '<a target=\"_blank\" href=https://colab.research.google.com/notebooks/data_table.ipynb>data table notebook</a>'\n",
              "            + ' to learn more about interactive tables.';\n",
              "          element.innerHTML = '';\n",
              "          dataTable['output_type'] = 'display_data';\n",
              "          await google.colab.output.renderOutput(dataTable, element);\n",
              "          const docLink = document.createElement('div');\n",
              "          docLink.innerHTML = docLinkHtml;\n",
              "          element.appendChild(docLink);\n",
              "        }\n",
              "      </script>\n",
              "    </div>\n",
              "  </div>\n",
              "  "
            ]
          },
          "metadata": {},
          "execution_count": 19
        }
      ],
      "source": [
        "def test_pal(uid, iid, actual):\n",
        "    pred = svd.predict(uid, iid, actual, verbose=True)\n",
        "    match = rec_match.loc[rec_match['Whiskey_ID'] == iid]\n",
        "    return match\n",
        "\n",
        "test_pal(601,0, 90)"
      ]
    },
    {
      "cell_type": "code",
      "source": [
        "!pip install IPython"
      ],
      "metadata": {
        "id": "QzSD5qj_ARFP"
      },
      "execution_count": null,
      "outputs": []
    },
    {
      "cell_type": "code",
      "execution_count": 16,
      "metadata": {
        "id": "J0URbuuxgXxk"
      },
      "outputs": [],
      "source": [
        "from IPython.display import Image, display\n",
        "\n",
        "def find_booze(user_ratings, num_recs, priceEUR):\n",
        "    new_ratings_df = pd.concat([rec_match, pd.DataFrame(user_ratings)], ignore_index=True)\n",
        "    new_ratings_df = new_ratings_df[new_ratings_df['price_euros'] < priceEUR]\n",
        "    new_ratings_df = new_ratings_df.drop(columns=['url', 'whiskey', 'price_euros'])\n",
        "\n",
        "    #load in new df\n",
        "    new_data = Dataset.load_from_df(new_ratings_df,reader)\n",
        "    #new svd object\n",
        "    svd_new = SVD()\n",
        "    #refit the model\n",
        "    svd_new.fit(new_data.build_full_trainset())\n",
        "\n",
        "    # predictions\n",
        "    list_of_whiskies = []\n",
        "    for w_id in new_ratings_df['Whiskey_ID'].unique():\n",
        "        list_of_whiskies.append((w_id, svd_new.predict(new_ratings_df['User_ID'].max(),w_id)[3]))\n",
        "\n",
        "    # sort results from highest to lowest rated\n",
        "    sorted_list = sorted(list_of_whiskies, key=lambda x:x[1],reverse=True)\n",
        "\n",
        "    rec_num = 1\n",
        "    for i in sorted_list[:num_recs]:\n",
        "        found_booze = rec_match[rec_match['Whiskey_ID'] == i[0]]\n",
        "        print('Offer number:', rec_num)\n",
        "        print('Whiskey: ' + found_booze.values[0][1])\n",
        "        print('Average Price: ' + str(found_booze.values[0][-1]))\n",
        "        print('URL: ' + found_booze.values[0][0])\n",
        "        \n",
        "        # Display a small image preview\n",
        "        image_url = found_booze.values[0][0] + '/mini'\n",
        "        display(Image(url=image_url, width=200, height=200))\n",
        "        \n",
        "        print('\\n')\n",
        "        rec_num += 1\n",
        "\n",
        "def BoozePal(df, num):\n",
        "    userID = rec_df.User_ID.max()+1\n",
        "    num_recs = input('How many offers you need ? Enter a number from 1 to 10:\\n')\n",
        "    \n",
        "    while int(num_recs) > 10:\n",
        "        num_recs = input('You entered a number over 10. Please enter a number from 1 to 10 to continue. \\n')\n",
        "    priceEUR = input('Enter your budget for a bottle. EUR ')\n",
        "    rating_list = []\n",
        "    \n",
        "    while num > 0:\n",
        "        whiskey = df[df['price_euros'] < int(priceEUR)].sample(1)\n",
        "        print('\\nPlease rate the following {} whiskies. \\n'.format(num))\n",
        "        print('Whiskey: ' + whiskey.values[0][0])\n",
        "        print('Price: ' + str(whiskey.values[0][-1]))\n",
        "        print('URL: ' + whiskey.values[0][2])\n",
        "        rating = input('Rate this whiskey from 1 to 100, press n if you do not know it. :\\n')\n",
        "            \n",
        "        if rating == 'n':\n",
        "            continue\n",
        "        if int(rating) > 100:\n",
        "            print('Rating must be below 100!')\n",
        "            continue\n",
        "        else:\n",
        "            rating_one_whiskey = {'User_ID':userID,'Whiskey_ID': whiskey['Whiskey_ID'].values[0],'rating': rating}\n",
        "            rating_list.append(rating_one_whiskey) \n",
        "            num -= 1\n",
        "        time.sleep(1.5)\n",
        "    print('\\n'+'BoozePal offers : '+'\\n')\n",
        "    \n",
        "    time.sleep(1.5)\n",
        "    find_booze(rating_list, int(num_recs), int(priceEUR))"
      ]
    },
    {
      "cell_type": "code",
      "execution_count": 17,
      "metadata": {
        "colab": {
          "base_uri": "https://localhost:8080/",
          "height": 1000
        },
        "id": "t7MW5F3WghyP",
        "outputId": "5c8d63cd-c53c-4416-c6e6-34a1f577390a"
      },
      "outputs": [
        {
          "output_type": "stream",
          "name": "stdout",
          "text": [
            "How many offers you need ? Enter a number from 1 to 10:\n",
            "2\n",
            "Enter your budget for a bottle. EUR 200\n",
            "\n",
            "Please rate the following 3 whiskies. \n",
            "\n",
            "Whiskey: Lagavulin 07 Year Old\n",
            "Price: 194.36\n",
            "URL: https://www.whiskybase.com/whiskies/whisky/218869/lagavulin-07-year-old\n",
            "Rate this whiskey from 1 to 100, press n if you do not know it. :\n",
            "80\n",
            "\n",
            "Please rate the following 2 whiskies. \n",
            "\n",
            "Whiskey: Balcones Eclipse\n",
            "Price: 84.49\n",
            "URL: https://www.whiskybase.com/whiskies/whisky/225296/balcones-eclipse\n",
            "Rate this whiskey from 1 to 100, press n if you do not know it. :\n",
            "45\n",
            "\n",
            "Please rate the following 1 whiskies. \n",
            "\n",
            "Whiskey: Balvenie 12 Year Old\n",
            "Price: 35.78\n",
            "URL: https://www.whiskybase.com/whiskies/whisky/209243/balvenie-12-year-old\n",
            "Rate this whiskey from 1 to 100, press n if you do not know it. :\n",
            "90\n",
            "\n",
            "BoozePal offers : \n",
            "\n",
            "Offer number: 1\n",
            "Whiskey: 1770 2015 Glasgow Single Malt\n",
            "Average Price: 85.14\n",
            "URL: https://www.whiskybase.com/whiskies/whisky/218272/1770-2015-glasgow-single-malt\n"
          ]
        },
        {
          "output_type": "display_data",
          "data": {
            "text/html": [
              "<img src=\"https://www.whiskybase.com/whiskies/whisky/218272/1770-2015-glasgow-single-malt/mini\" width=\"200\" height=\"200\"/>"
            ],
            "text/plain": [
              "<IPython.core.display.Image object>"
            ]
          },
          "metadata": {}
        },
        {
          "output_type": "stream",
          "name": "stdout",
          "text": [
            "\n",
            "\n",
            "Offer number: 2\n",
            "Whiskey: 1770 2016 Glasgow Single Malt\n",
            "Average Price: 89.44\n",
            "URL: https://www.whiskybase.com/whiskies/whisky/220758/1770-2016-glasgow-single-malt\n"
          ]
        },
        {
          "output_type": "display_data",
          "data": {
            "text/html": [
              "<img src=\"https://www.whiskybase.com/whiskies/whisky/220758/1770-2016-glasgow-single-malt/mini\" width=\"200\" height=\"200\"/>"
            ],
            "text/plain": [
              "<IPython.core.display.Image object>"
            ]
          },
          "metadata": {}
        },
        {
          "output_type": "stream",
          "name": "stdout",
          "text": [
            "\n",
            "\n"
          ]
        }
      ],
      "source": [
        "BoozePal(df, 3)"
      ]
    }
  ],
  "metadata": {
    "colab": {
      "provenance": []
    },
    "kernelspec": {
      "display_name": "Python 3",
      "name": "python3"
    },
    "language_info": {
      "name": "python",
      "version": "3.10.9"
    }
  },
  "nbformat": 4,
  "nbformat_minor": 0
}