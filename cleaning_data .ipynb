{
 "cells": [
  {
   "cell_type": "code",
   "execution_count": 1,
   "metadata": {},
   "outputs": [],
   "source": [
    "import pandas as pd\n",
    "import seaborn as sns\n",
    "import numpy as np\n",
    "import re\n",
    "\n",
    "df1 = pd.read_csv('Whiskey_Released_in_2022_Data.csv')\n",
    "df2 = pd.read_csv('Whiskey_Top_1000_Data.csv')\n",
    "\n",
    "pd.options.display.max_colwidth = 1000\n",
    "#combining db's and droping the unnamed column\n",
    "df = pd.concat([df1, df2], axis=0)\n",
    "df.drop(columns = 'Unnamed: 0', inplace = True)\n",
    "# filter users with more than 5 reviews\n",
    "df5 = df.groupby('user').filter(lambda x: len(x)>5)\n",
    "# Removing for empty columns\n",
    "df5.dropna(inplace=True)\n",
    "# Creating a group_id column to make user name hiden\n",
    "df5['User_ID'] = df5.groupby('user').grouper.group_info[0]\n",
    "df5['Whiskey_ID'] = df5.groupby('whiskey').grouper.group_info[0]\n",
    "# Dropping Usernames after getting the unique user_ids\n",
    "df5.drop(columns=['user'], inplace=True)\n",
    "# Dropping duplicates\n",
    "df5.drop_duplicates(inplace=True)\n",
    "# Turning price column into floats and removing currency sign\n",
    "df5['price_euros'] = df5['price'].str.replace('€','')\n",
    "df5 = df5.drop('price', axis=1)\n",
    "# saving dataframe to csv\n",
    "df5.to_csv('Clean_whiskey_data.csv')"
   ]
  }
 ],
 "metadata": {
  "kernelspec": {
   "display_name": ".venv",
   "language": "python",
   "name": "python3"
  },
  "language_info": {
   "codemirror_mode": {
    "name": "ipython",
    "version": 3
   },
   "file_extension": ".py",
   "mimetype": "text/x-python",
   "name": "python",
   "nbconvert_exporter": "python",
   "pygments_lexer": "ipython3",
   "version": "3.10.9 (tags/v3.10.9:1dd9be6, Dec  6 2022, 20:01:21) [MSC v.1934 64 bit (AMD64)]"
  },
  "vscode": {
   "interpreter": {
    "hash": "8b5666017ed9150cf695c9f7a16f9fb7eac4aab0c959ca15ebfed1c3fd8951d6"
   }
  }
 },
 "nbformat": 4,
 "nbformat_minor": 2
}
