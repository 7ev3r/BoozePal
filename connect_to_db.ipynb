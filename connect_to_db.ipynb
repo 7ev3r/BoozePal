{
 "cells": [
  {
   "cell_type": "code",
   "execution_count": 28,
   "metadata": {},
   "outputs": [
    {
     "name": "stdout",
     "output_type": "stream",
     "text": [
      "Connected to MySQL Server version  5.5.5-10.4.25-MariaDB\n",
      "You're connected to database:  ('whiskey_database',)\n",
      "Table name :  ('whiskey_data',)\n"
     ]
    }
   ],
   "source": [
    "# connecting to db , and geting table name\n",
    "import mysql.connector\n",
    "from mysql.connector import Error\n",
    "\n",
    "try:\n",
    "    connection = mysql.connector.connect(host='localhost',\n",
    "                                         database='Whiskey_Database',\n",
    "                                         user='root',\n",
    "                                         password='')\n",
    "    if connection.is_connected():\n",
    "        db_Info = connection.get_server_info()\n",
    "        print(\"Connected to MySQL Server version \", db_Info)\n",
    "        cursor = connection.cursor()\n",
    "        cursor.execute(\"select database();\")\n",
    "        record = cursor.fetchone()\n",
    "        print(\"You're connected to database: \", record)\n",
    "\n",
    "except Error as e:\n",
    "    print(\"Error while connecting to MySQL\", e)\n",
    "finally:\n",
    "    if connection.is_connected():\n",
    "        print(\"Table name : \", table_name)"
   ]
  },
  {
   "cell_type": "code",
   "execution_count": null,
   "metadata": {},
   "outputs": [],
   "source": [
    "# Performing queries on database.\n",
    "query1 = \"desc whiskey_data\"\n",
    "cursor.execute(query1)\n",
    "table = cursor.fetchall()\n",
    "print('\\n Table Description:')\n",
    "for attr in table:\n",
    "    print(attr)\n",
    "\n",
    "query2 = \"select * from whiskey_data\"\n",
    "cursor.execute(query2)\n",
    "table = cursor.fetchall()\n",
    "#checking the data in our table :\n",
    "print('\\n Table Data:')\n",
    "for row in table:\n",
    "    print(row[0], end=\"\\n\")\n",
    "    print(row[1], end=\"\\n\")\n",
    "    print(row[2], end=\"\\n\")\n",
    "    print(row[3], end=\"\\n\")\n",
    "    print(row[4], end=\"\\n\")\n",
    "    print(row[5], end=\"\\n\")\n",
    "    print(row[6], end=\"\\n\")\n",
    "    print(\"------------\"\"\\n\")\n",
    "cursor.close()\n",
    "connection.close()"
   ]
  }
 ],
 "metadata": {
  "kernelspec": {
   "display_name": ".venv",
   "language": "python",
   "name": "python3"
  },
  "language_info": {
   "codemirror_mode": {
    "name": "ipython",
    "version": 3
   },
   "file_extension": ".py",
   "mimetype": "text/x-python",
   "name": "python",
   "nbconvert_exporter": "python",
   "pygments_lexer": "ipython3",
   "version": "3.10.9 (tags/v3.10.9:1dd9be6, Dec  6 2022, 20:01:21) [MSC v.1934 64 bit (AMD64)]"
  },
  "orig_nbformat": 4,
  "vscode": {
   "interpreter": {
    "hash": "8b5666017ed9150cf695c9f7a16f9fb7eac4aab0c959ca15ebfed1c3fd8951d6"
   }
  }
 },
 "nbformat": 4,
 "nbformat_minor": 2
}
