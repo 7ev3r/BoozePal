{
 "cells": [
  {
   "cell_type": "code",
   "execution_count": 1,
   "metadata": {},
   "outputs": [],
   "source": [
    "# Loading dependencies\n",
    "import requests\n",
    "import pandas as pd\n",
    "from bs4 import BeautifulSoup\n",
    "from selenium import webdriver\n",
    "from selenium.webdriver.common.keys import Keys\n",
    "from selenium.webdriver.common.by import By\n",
    "from selenium.common.exceptions import NoSuchElementException\n",
    "from selenium.common.exceptions import WebDriverException\n",
    "from selenium.webdriver.chrome.options import Options\n",
    "from tqdm import tqdm\n",
    "import time"
   ]
  },
  {
   "cell_type": "code",
   "execution_count": 2,
   "metadata": {},
   "outputs": [],
   "source": [
    "options = Options()\n",
    "options.add_argument('--headless')\n",
    "ua = {\"User-Agent\":\"Mozilla/5.0\"}\n",
    "url = \"https://www.whiskybase.com/whiskies/new-releases?bottle_date_year=2022&bottler_id=&brand_id=&vintage_year=&type_id=&itemsforsale=&votes=\"\n",
    "url2 = \"https://www.whiskybase.com/whiskies/top1000\"\n",
    "page = requests.get(url, headers=ua)\n",
    "page2 = requests.get(url2, headers=ua)\n",
    "soup = BeautifulSoup(page.text, \"html\")\n",
    "soup2 = BeautifulSoup(page2.text, \"html\")\n",
    "atags = soup.find_all('a', {'class' : 'clickable'})\n",
    "atags2 = soup2.find_all('a', {'class' : 'clickable'})\n",
    "links = [atag['href'] for atag in atags]\n",
    "links2 = [atag2['href'] for atag2 in atags2]"
   ]
  },
  {
   "cell_type": "code",
   "execution_count": 3,
   "metadata": {},
   "outputs": [],
   "source": [
    "list_of_dicts = []\n",
    "\n",
    "def get_ratings_new_releases(links):\n",
    "    url = \"https://www.whiskybase.com/account/login?p=%2Fwhiskies%2Fnew-releases\"\n",
    "    driver = webdriver.Chrome(\"/usr/lib/chromium-browser/chromedriver\")\n",
    "    driver.get(url)\n",
    "    element = driver.find_element(By.XPATH, \"/html/body/div[1]/div[1]/div/div[3]/form/div[1]/div/input\").send_keys(\"whiskie_coder\")\n",
    "    element = driver.find_element(By.XPATH,\"/html/body/div[1]/div[1]/div/div[3]/form/div[2]/div/input\").send_keys(\"whiskie_coder\")\n",
    "    element = driver.find_element(By.XPATH,\"/html/body/div[1]/div[1]/div/div[3]/form/div[3]/div/button\").send_keys(Keys.ENTER)\n",
    "    \n",
    "    for i in tqdm(links, desc=\"New Releases Progress\"):\n",
    "        url = i\n",
    "        driver.get(url)\n",
    "        soup = BeautifulSoup(driver.page_source, 'html.parser')\n",
    "        \n",
    "        try:\n",
    "            price = soup.find('div', class_=\"block-price\").find_all('p')[-1].get_text()\n",
    "        except:\n",
    "            price = 'N/A'\n",
    "        \n",
    "        community_blocks = soup.find_all('div', class_=\"wb--community-block\")\n",
    "        \n",
    "        if len(community_blocks) > 1 and price != 'N/A':\n",
    "            users = community_blocks[1].find_all('th', scope='row')\n",
    "            user_list = []\n",
    "            for user in users:\n",
    "                try:\n",
    "                    user_list.append(user.get_text().strip('\\n'))\n",
    "                except:\n",
    "                    pass\n",
    "            ratings = community_blocks[1].find_all('div', class_=\"wb--rating\")\n",
    "            ratings_list = []\n",
    "            for rating in ratings:\n",
    "                try:\n",
    "                    ratings_list.append(rating.get_text().strip('\\n').split('\\n')[0])\n",
    "                except:\n",
    "                    pass\n",
    "            for i in range(len(ratings_list)):\n",
    "                try:\n",
    "                    whiskey_dict = {}\n",
    "                    whiskey_dict['whiskey'] = url.split('/')[-1]\n",
    "                    whiskey_dict['user'] = user_list[i]\n",
    "                    whiskey_dict['rating'] = ratings_list[i]\n",
    "                    whiskey_dict['price'] = price\n",
    "                    whiskey_dict['url'] = url\n",
    "                    list_of_dicts.append(whiskey_dict)\n",
    "                except:\n",
    "                    pass\n",
    "        else:\n",
    "            # Pass the whiskeys with no ratings and price\n",
    "            pass\n",
    "    \n",
    "    return list_of_dicts"
   ]
  },
  {
   "cell_type": "code",
   "execution_count": 4,
   "metadata": {},
   "outputs": [],
   "source": [
    "list_of_dicts2 = []\n",
    "def get_ratings_top1000(links2):\n",
    "    url = \"https://www.whiskybase.com/account/login?p=%2Fwhiskies%2Ftop1000\"\n",
    "    driver = webdriver.Chrome(\"/usr/lib/chromium-browser/chromedriver\")\n",
    "    driver.get(url)\n",
    "    element = driver.find_element(By.XPATH, \"/html/body/div[1]/div[1]/div/div[3]/form/div[1]/div/input\").send_keys(\"whiskie_coder\")\n",
    "    element = driver.find_element(By.XPATH,\"/html/body/div[1]/div[1]/div/div[3]/form/div[2]/div/input\").send_keys(\"whiskie_coder\")\n",
    "    element = driver.find_element(By.XPATH,\"/html/body/div[1]/div[1]/div/div[3]/form/div[3]/div/button\").send_keys(Keys.ENTER)\n",
    "    for i in tqdm(links2, desc=\"Top 1000 Progress\"):  # This line was also changed from 'links' to 'links2'\n",
    "        url = i\n",
    "        driver.get(url)\n",
    "        soup = BeautifulSoup(driver.page_source, 'html.parser')\n",
    "        try:\n",
    "            price = soup.find('div', class_=\"block-price\").find_all('p')[-1].get_text()\n",
    "        except:\n",
    "            price = 'N/A'\n",
    "        users = soup.find_all('div', class_=\"wb--community-block\")[1].find_all('th' ,scope='row')\n",
    "        user_list = []\n",
    "        for user in users:\n",
    "            try:\n",
    "                user_list.append(user.get_text().strip('\\n'))\n",
    "            except:\n",
    "                pass\n",
    "        ratings = soup.find_all('div', class_=\"wb--community-block\")[1].find_all('div' ,class_=\"wb--rating\")\n",
    "        ratings_list = []\n",
    "        for rating in ratings:\n",
    "            try:\n",
    "                ratings_list.append(rating.get_text().strip('\\n').split('\\n')[0])\n",
    "            except:\n",
    "                pass\n",
    "        for i in range(len(ratings_list)):\n",
    "            try:\n",
    "                whiskey_dict = {}\n",
    "                whiskey_dict['whiskey'] = url.split('/')[-1]\n",
    "                whiskey_dict['user'] = user_list[i]\n",
    "                whiskey_dict['rating'] = ratings_list[i]\n",
    "                whiskey_dict['price'] = price\n",
    "                whiskey_dict['url'] = url\n",
    "                list_of_dicts2.append(whiskey_dict)\n",
    "            except:\n",
    "                pass\n",
    "    \n",
    "    return list_of_dicts2"
   ]
  },
  {
   "cell_type": "code",
   "execution_count": 4,
   "metadata": {},
   "outputs": [
    {
     "name": "stderr",
     "output_type": "stream",
     "text": [
      "C:\\Users\\exman\\AppData\\Local\\Temp\\ipykernel_16788\\233208415.py:5: DeprecationWarning: executable_path has been deprecated, please pass in a Service object\n",
      "  driver = webdriver.Chrome(\"/usr/lib/chromium-browser/chromedriver\")\n",
      "New Releases Progress: 100%|██████████| 8221/8221 [1:12:23<00:00,  1.89it/s]\n"
     ]
    }
   ],
   "source": [
    "list_of_dicts = get_ratings_new_releases(links)\n",
    "df = pd.DataFrame(list_of_dicts)\n",
    "df.to_csv('Whiskey_Released_in_2022_Data.csv')"
   ]
  },
  {
   "cell_type": "code",
   "execution_count": 5,
   "metadata": {},
   "outputs": [
    {
     "name": "stderr",
     "output_type": "stream",
     "text": [
      "C:\\Users\\exman\\AppData\\Local\\Temp\\ipykernel_14104\\3486401894.py:4: DeprecationWarning: executable_path has been deprecated, please pass in a Service object\n",
      "  driver = webdriver.Chrome(\"/usr/lib/chromium-browser/chromedriver\")\n",
      "Top 1000 Progress: 100%|██████████| 1000/1000 [10:29<00:00,  1.59it/s]\n"
     ]
    }
   ],
   "source": [
    "list_of_dicts2 = get_ratings_top1000(links2)\n",
    "df2 = pd.DataFrame(list_of_dicts2)\n",
    "df2.to_csv('Whiskey_Top_1000_Data.csv')"
   ]
  }
 ],
 "metadata": {
  "kernelspec": {
   "display_name": ".venv",
   "language": "python",
   "name": "python3"
  },
  "language_info": {
   "codemirror_mode": {
    "name": "ipython",
    "version": 3
   },
   "file_extension": ".py",
   "mimetype": "text/x-python",
   "name": "python",
   "nbconvert_exporter": "python",
   "pygments_lexer": "ipython3",
   "version": "3.10.9"
  },
  "orig_nbformat": 4,
  "vscode": {
   "interpreter": {
    "hash": "8b5666017ed9150cf695c9f7a16f9fb7eac4aab0c959ca15ebfed1c3fd8951d6"
   }
  }
 },
 "nbformat": 4,
 "nbformat_minor": 2
}
