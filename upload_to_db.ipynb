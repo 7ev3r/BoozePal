{
 "cells": [
  {
   "cell_type": "code",
   "execution_count": 3,
   "metadata": {},
   "outputs": [
    {
     "name": "stdout",
     "output_type": "stream",
     "text": [
      "old db dropped\n",
      "1 db created\n"
     ]
    }
   ],
   "source": [
    "# pip install mysql-connector\n",
    "import mysql.connector\n",
    "import pandas as pd\n",
    "\n",
    "#connecting to db\n",
    "mydb = mysql.connector.connect(\n",
    "  host='localhost',\n",
    "  user='root',\n",
    "  password=''\n",
    ")\n",
    "#droping old db\n",
    "mycursor = mydb.cursor()\n",
    "mycursor.execute(\"DROP DATABASE IF EXISTS Whiskey_Database\")\n",
    "print('old db dropped')\n",
    "\n",
    "#creating fresh one \n",
    "mycursor.execute(\"CREATE DATABASE Whiskey_Database\")\n",
    "mydb.commit()\n",
    "print(mycursor.rowcount, \"db created\")"
   ]
  },
  {
   "cell_type": "code",
   "execution_count": 4,
   "metadata": {},
   "outputs": [
    {
     "name": "stdout",
     "output_type": "stream",
     "text": [
      "You're connected to database:  ('whiskey_database',)\n",
      "Creating table....\n",
      "Table is created....\n",
      "Records inserted\n"
     ]
    }
   ],
   "source": [
    "import mysql.connector as msql\n",
    "from mysql.connector import Error\n",
    "import pandas as pd\n",
    "empdata = pd.read_csv('Clean_whiskey_data.csv',  index_col=0)\n",
    "empdata.head()\n",
    "try:\n",
    "    conn = msql.connect(host='localhost', database='whiskey_database', user='root', password='')\n",
    "    if conn.is_connected():\n",
    "        cursor = conn.cursor()\n",
    "        cursor.execute('select database();')\n",
    "        record = cursor.fetchone()\n",
    "        print(\"You're connected to database: \", record)\n",
    "        # droping old table\n",
    "        cursor.execute('DROP TABLE IF EXISTS whiskey_data;')\n",
    "        print('Creating table....')\n",
    "        #creating fresh one\n",
    "        cursor.execute('CREATE TABLE whiskey_data(whiskey varchar(255),rating varchar(255),url varchar(255),User_ID varchar(255),Whiskey_ID varchar(255),price_euro varchar(255),price_dollar varchar(255))')\n",
    "        print('Table is created....')\n",
    "        for i,row in empdata.iterrows():\n",
    "            sql = 'INSERT INTO whiskey_database.whiskey_data VALUES (%s,%s,%s,%s,%s,%s,%s)'\n",
    "            cursor.execute(sql, tuple(row))\n",
    "            conn.commit()\n",
    "    print(\"All records inserted !\")           \n",
    "            \n",
    "except Error as e:\n",
    "            print(\"Error while connecting to MySQL\", e)"
   ]
  }
 ],
 "metadata": {
  "kernelspec": {
   "display_name": ".venv",
   "language": "python",
   "name": "python3"
  },
  "language_info": {
   "codemirror_mode": {
    "name": "ipython",
    "version": 3
   },
   "file_extension": ".py",
   "mimetype": "text/x-python",
   "name": "python",
   "nbconvert_exporter": "python",
   "pygments_lexer": "ipython3",
   "version": "3.10.9 (tags/v3.10.9:1dd9be6, Dec  6 2022, 20:01:21) [MSC v.1934 64 bit (AMD64)]"
  },
  "orig_nbformat": 4,
  "vscode": {
   "interpreter": {
    "hash": "8b5666017ed9150cf695c9f7a16f9fb7eac4aab0c959ca15ebfed1c3fd8951d6"
   }
  }
 },
 "nbformat": 4,
 "nbformat_minor": 2
}
